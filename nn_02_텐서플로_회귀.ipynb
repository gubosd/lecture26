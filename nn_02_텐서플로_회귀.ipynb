{
 "cells": [
  {
   "cell_type": "markdown",
   "id": "521f92f8",
   "metadata": {},
   "source": [
    "## 신경망과 딥러닝\n",
    "# 텐서플로와 케라스\n",
    "- pip insall tensorflow"
   ]
  },
  {
   "cell_type": "code",
   "execution_count": 1,
   "id": "8ea8076c",
   "metadata": {},
   "outputs": [],
   "source": [
    "import numpy as np\n",
    "import pandas as pd\n",
    "import matplotlib.pyplot as plt"
   ]
  },
  {
   "cell_type": "markdown",
   "id": "10ca65ac",
   "metadata": {},
   "source": [
    "### 선형회귀 적용"
   ]
  },
  {
   "cell_type": "code",
   "execution_count": 2,
   "id": "4cf20096",
   "metadata": {},
   "outputs": [],
   "source": [
    "from sklearn.datasets import load_iris\n",
    "iris = load_iris()"
   ]
  },
  {
   "cell_type": "code",
   "execution_count": 3,
   "id": "176382e6",
   "metadata": {},
   "outputs": [
    {
     "data": {
      "text/plain": [
       "((150, 3), (150,))"
      ]
     },
     "execution_count": 3,
     "metadata": {},
     "output_type": "execute_result"
    }
   ],
   "source": [
    "X = iris.data[:, :3]\n",
    "y = iris.data[:, 3]\n",
    "X.shape, y.shape"
   ]
  },
  {
   "cell_type": "code",
   "execution_count": null,
   "id": "42798912",
   "metadata": {},
   "outputs": [],
   "source": []
  },
  {
   "cell_type": "code",
   "execution_count": 4,
   "id": "0f7444b4",
   "metadata": {},
   "outputs": [],
   "source": [
    "import tensorflow as tf\n",
    "from tensorflow import keras"
   ]
  },
  {
   "cell_type": "code",
   "execution_count": 5,
   "id": "33559fe1",
   "metadata": {},
   "outputs": [
    {
     "data": {
      "text/plain": [
       "'2.5.0'"
      ]
     },
     "execution_count": 5,
     "metadata": {},
     "output_type": "execute_result"
    }
   ],
   "source": [
    "tf.__version__"
   ]
  },
  {
   "cell_type": "code",
   "execution_count": 6,
   "id": "b63f5a17",
   "metadata": {},
   "outputs": [
    {
     "data": {
      "text/plain": [
       "[name: \"/device:CPU:0\"\n",
       " device_type: \"CPU\"\n",
       " memory_limit: 268435456\n",
       " locality {\n",
       " }\n",
       " incarnation: 6398836504374888079,\n",
       " name: \"/device:GPU:0\"\n",
       " device_type: \"GPU\"\n",
       " memory_limit: 1417992603\n",
       " locality {\n",
       "   bus_id: 1\n",
       "   links {\n",
       "   }\n",
       " }\n",
       " incarnation: 2253987620055196457\n",
       " physical_device_desc: \"device: 0, name: NVIDIA GeForce GTX 960M, pci bus id: 0000:01:00.0, compute capability: 5.0\"]"
      ]
     },
     "execution_count": 6,
     "metadata": {},
     "output_type": "execute_result"
    }
   ],
   "source": [
    "# GPU 사용여부 확인\n",
    "from tensorflow.python.client import device_lib\n",
    "device_lib.list_local_devices()"
   ]
  },
  {
   "cell_type": "code",
   "execution_count": null,
   "id": "13b439ca",
   "metadata": {},
   "outputs": [],
   "source": []
  },
  {
   "cell_type": "code",
   "execution_count": 7,
   "id": "9cf6c783",
   "metadata": {},
   "outputs": [
    {
     "name": "stdout",
     "output_type": "stream",
     "text": [
      "Model: \"sequential\"\n",
      "_________________________________________________________________\n",
      "Layer (type)                 Output Shape              Param #   \n",
      "=================================================================\n",
      "dense (Dense)                (None, 1)                 4         \n",
      "=================================================================\n",
      "Total params: 4\n",
      "Trainable params: 4\n",
      "Non-trainable params: 0\n",
      "_________________________________________________________________\n"
     ]
    }
   ],
   "source": [
    "model = keras.models.Sequential()\n",
    "model.add(keras.layers.Dense(1, input_shape=(3,)))\n",
    "model.summary()"
   ]
  },
  {
   "cell_type": "code",
   "execution_count": 8,
   "id": "e6b4796c",
   "metadata": {},
   "outputs": [],
   "source": [
    "model.compile(loss='mse', optimizer='sgd') # loss:오차값, optimizer:경사하강법종류, sgd: 확률적경사하강법"
   ]
  },
  {
   "cell_type": "code",
   "execution_count": 9,
   "id": "6fc9c8da",
   "metadata": {
    "scrolled": true
   },
   "outputs": [
    {
     "name": "stdout",
     "output_type": "stream",
     "text": [
      "Epoch 1/20\n",
      "5/5 [==============================] - 2s 4ms/step - loss: 0.7953\n",
      "Epoch 2/20\n",
      "5/5 [==============================] - 0s 6ms/step - loss: 0.5598\n",
      "Epoch 3/20\n",
      "5/5 [==============================] - 0s 6ms/step - loss: 0.4046\n",
      "Epoch 4/20\n",
      "5/5 [==============================] - 0s 5ms/step - loss: 0.2924\n",
      "Epoch 5/20\n",
      "5/5 [==============================] - 0s 6ms/step - loss: 0.2276\n",
      "Epoch 6/20\n",
      "5/5 [==============================] - 0s 5ms/step - loss: 0.1785\n",
      "Epoch 7/20\n",
      "5/5 [==============================] - 0s 5ms/step - loss: 0.1549\n",
      "Epoch 8/20\n",
      "5/5 [==============================] - 0s 6ms/step - loss: 0.1175\n",
      "Epoch 9/20\n",
      "5/5 [==============================] - 0s 6ms/step - loss: 0.1019\n",
      "Epoch 10/20\n",
      "5/5 [==============================] - 0s 6ms/step - loss: 0.0910\n",
      "Epoch 11/20\n",
      "5/5 [==============================] - 0s 5ms/step - loss: 0.0873\n",
      "Epoch 12/20\n",
      "5/5 [==============================] - 0s 6ms/step - loss: 0.0845\n",
      "Epoch 13/20\n",
      "5/5 [==============================] - 0s 5ms/step - loss: 0.0749\n",
      "Epoch 14/20\n",
      "5/5 [==============================] - 0s 5ms/step - loss: 0.0702\n",
      "Epoch 15/20\n",
      "5/5 [==============================] - 0s 6ms/step - loss: 0.0707\n",
      "Epoch 16/20\n",
      "5/5 [==============================] - 0s 6ms/step - loss: 0.0706\n",
      "Epoch 17/20\n",
      "5/5 [==============================] - 0s 6ms/step - loss: 0.0802\n",
      "Epoch 18/20\n",
      "5/5 [==============================] - 0s 5ms/step - loss: 0.0655\n",
      "Epoch 19/20\n",
      "5/5 [==============================] - 0s 6ms/step - loss: 0.0701\n",
      "Epoch 20/20\n",
      "5/5 [==============================] - 0s 6ms/step - loss: 0.0697\n"
     ]
    },
    {
     "data": {
      "text/plain": [
       "<tensorflow.python.keras.callbacks.History at 0x24885be21f0>"
      ]
     },
     "execution_count": 9,
     "metadata": {},
     "output_type": "execute_result"
    }
   ],
   "source": [
    "model.fit(X, y, epochs=20) # epochs: 반복횟수"
   ]
  },
  {
   "cell_type": "code",
   "execution_count": 10,
   "id": "02c5c999",
   "metadata": {},
   "outputs": [],
   "source": [
    "h = model.history.history"
   ]
  },
  {
   "cell_type": "code",
   "execution_count": 11,
   "id": "56464517",
   "metadata": {},
   "outputs": [
    {
     "data": {
      "text/plain": [
       "[<matplotlib.lines.Line2D at 0x2488bc57eb0>]"
      ]
     },
     "execution_count": 11,
     "metadata": {},
     "output_type": "execute_result"
    },
    {
     "data": {
      "image/png": "[encoded data removed]",
      "text/plain": [
       "<Figure size 432x288 with 1 Axes>"
      ]
     },
     "metadata": {
      "needs_background": "light"
     },
     "output_type": "display_data"
    }
   ],
   "source": [
    "plt.plot(h['loss'])"
   ]
  },
  {
   "cell_type": "code",
   "execution_count": 12,
   "id": "7284e156",
   "metadata": {},
   "outputs": [],
   "source": [
    "y_pred = model.predict(X)"
   ]
  },
  {
   "cell_type": "code",
   "execution_count": 13,
   "id": "9cbd8eb1",
   "metadata": {},
   "outputs": [
    {
     "data": {
      "text/plain": [
       "<matplotlib.legend.Legend at 0x248902a1a00>"
      ]
     },
     "execution_count": 13,
     "metadata": {},
     "output_type": "execute_result"
    },
    {
     "data": {
      "image/png": "[encoded data removed]",
      "text/plain": [
       "<Figure size 432x288 with 1 Axes>"
      ]
     },
     "metadata": {
      "needs_background": "light"
     },
     "output_type": "display_data"
    }
   ],
   "source": [
    "plt.plot(y_pred)\n",
    "plt.plot(y)\n",
    "plt.legend(['y_pred', 'y'])"
   ]
  },
  {
   "cell_type": "code",
   "execution_count": 14,
   "id": "658df2f5",
   "metadata": {},
   "outputs": [
    {
     "data": {
      "text/plain": [
       "0.0670213495216313"
      ]
     },
     "execution_count": 14,
     "metadata": {},
     "output_type": "execute_result"
    }
   ],
   "source": [
    "mse = ((y - y_pred.ravel())**2).mean()\n",
    "mse"
   ]
  },
  {
   "cell_type": "code",
   "execution_count": null,
   "id": "524fce4f",
   "metadata": {},
   "outputs": [],
   "source": []
  },
  {
   "cell_type": "markdown",
   "id": "3444c33b",
   "metadata": {},
   "source": [
    "### 검증데이터 분리\n",
    "- model.fit() 함수의 validation_split 옵션 적용"
   ]
  },
  {
   "cell_type": "code",
   "execution_count": 49,
   "id": "51cd5a65",
   "metadata": {},
   "outputs": [
    {
     "name": "stdout",
     "output_type": "stream",
     "text": [
      "Model: \"sequential_7\"\n",
      "_________________________________________________________________\n",
      "Layer (type)                 Output Shape              Param #   \n",
      "=================================================================\n",
      "dense_12 (Dense)             (None, 1)                 4         \n",
      "=================================================================\n",
      "Total params: 4\n",
      "Trainable params: 4\n",
      "Non-trainable params: 0\n",
      "_________________________________________________________________\n"
     ]
    }
   ],
   "source": [
    "model = keras.models.Sequential()\n",
    "model.add(keras.layers.Dense(1, input_shape=(3,)))\n",
    "model.summary()"
   ]
  },
  {
   "cell_type": "code",
   "execution_count": 50,
   "id": "21a521e0",
   "metadata": {},
   "outputs": [],
   "source": [
    "model.compile(loss='mse', optimizer='sgd')"
   ]
  },
  {
   "cell_type": "code",
   "execution_count": 51,
   "id": "59fbf93c",
   "metadata": {
    "scrolled": true
   },
   "outputs": [
    {
     "name": "stdout",
     "output_type": "stream",
     "text": [
      "Epoch 1/100\n",
      "4/4 [==============================] - 0s 41ms/step - loss: 0.6627 - val_loss: 0.7479\n",
      "Epoch 2/100\n",
      "4/4 [==============================] - 0s 15ms/step - loss: 0.2321 - val_loss: 0.4901\n",
      "Epoch 3/100\n",
      "4/4 [==============================] - 0s 16ms/step - loss: 0.1756 - val_loss: 0.3100\n",
      "Epoch 4/100\n",
      "4/4 [==============================] - 0s 15ms/step - loss: 0.1513 - val_loss: 0.1968\n",
      "Epoch 5/100\n",
      "4/4 [==============================] - 0s 15ms/step - loss: 0.1046 - val_loss: 0.2819\n",
      "Epoch 6/100\n",
      "4/4 [==============================] - 0s 16ms/step - loss: 0.0786 - val_loss: 0.2934\n",
      "Epoch 7/100\n",
      "4/4 [==============================] - 0s 15ms/step - loss: 0.0626 - val_loss: 0.1253\n",
      "Epoch 8/100\n",
      "4/4 [==============================] - 0s 15ms/step - loss: 0.0580 - val_loss: 0.1179\n",
      "Epoch 9/100\n",
      "4/4 [==============================] - 0s 14ms/step - loss: 0.0446 - val_loss: 0.1249\n",
      "Epoch 10/100\n",
      "4/4 [==============================] - 0s 14ms/step - loss: 0.0364 - val_loss: 0.1620\n",
      "Epoch 11/100\n",
      "4/4 [==============================] - 0s 14ms/step - loss: 0.0325 - val_loss: 0.1046\n",
      "Epoch 12/100\n",
      "4/4 [==============================] - 0s 13ms/step - loss: 0.0319 - val_loss: 0.1718\n",
      "Epoch 13/100\n",
      "4/4 [==============================] - 0s 14ms/step - loss: 0.0262 - val_loss: 0.1167\n",
      "Epoch 14/100\n",
      "4/4 [==============================] - 0s 14ms/step - loss: 0.0263 - val_loss: 0.1208\n",
      "Epoch 15/100\n",
      "4/4 [==============================] - 0s 14ms/step - loss: 0.0218 - val_loss: 0.1237\n",
      "Epoch 16/100\n",
      "4/4 [==============================] - 0s 13ms/step - loss: 0.0207 - val_loss: 0.1107\n",
      "Epoch 17/100\n",
      "4/4 [==============================] - 0s 13ms/step - loss: 0.0203 - val_loss: 0.0972\n",
      "Epoch 18/100\n",
      "4/4 [==============================] - 0s 12ms/step - loss: 0.0228 - val_loss: 0.1409\n",
      "Epoch 19/100\n",
      "4/4 [==============================] - 0s 14ms/step - loss: 0.0211 - val_loss: 0.1119\n",
      "Epoch 20/100\n",
      "4/4 [==============================] - 0s 14ms/step - loss: 0.0190 - val_loss: 0.1250\n",
      "Epoch 21/100\n",
      "4/4 [==============================] - 0s 12ms/step - loss: 0.0212 - val_loss: 0.1135\n",
      "Epoch 22/100\n",
      "4/4 [==============================] - 0s 13ms/step - loss: 0.0195 - val_loss: 0.0913\n",
      "Epoch 23/100\n",
      "4/4 [==============================] - 0s 16ms/step - loss: 0.0202 - val_loss: 0.1034\n",
      "Epoch 24/100\n",
      "4/4 [==============================] - 0s 14ms/step - loss: 0.0188 - val_loss: 0.1147\n",
      "Epoch 25/100\n",
      "4/4 [==============================] - 0s 18ms/step - loss: 0.0187 - val_loss: 0.1015\n",
      "Epoch 26/100\n",
      "4/4 [==============================] - 0s 17ms/step - loss: 0.0184 - val_loss: 0.1025\n",
      "Epoch 27/100\n",
      "4/4 [==============================] - 0s 14ms/step - loss: 0.0183 - val_loss: 0.0902\n",
      "Epoch 28/100\n",
      "4/4 [==============================] - 0s 15ms/step - loss: 0.0188 - val_loss: 0.0797\n",
      "Epoch 29/100\n",
      "4/4 [==============================] - 0s 15ms/step - loss: 0.0216 - val_loss: 0.1038\n",
      "Epoch 30/100\n",
      "4/4 [==============================] - 0s 13ms/step - loss: 0.0185 - val_loss: 0.1125\n",
      "Epoch 31/100\n",
      "4/4 [==============================] - 0s 15ms/step - loss: 0.0182 - val_loss: 0.0988\n",
      "Epoch 32/100\n",
      "4/4 [==============================] - 0s 16ms/step - loss: 0.0185 - val_loss: 0.1046\n",
      "Epoch 33/100\n",
      "4/4 [==============================] - 0s 15ms/step - loss: 0.0191 - val_loss: 0.1028\n",
      "Epoch 34/100\n",
      "4/4 [==============================] - 0s 14ms/step - loss: 0.0189 - val_loss: 0.0922\n",
      "Epoch 35/100\n",
      "4/4 [==============================] - 0s 14ms/step - loss: 0.0184 - val_loss: 0.1163\n",
      "Epoch 36/100\n",
      "4/4 [==============================] - 0s 11ms/step - loss: 0.0191 - val_loss: 0.0903\n",
      "Epoch 37/100\n",
      "4/4 [==============================] - 0s 11ms/step - loss: 0.0186 - val_loss: 0.0983\n",
      "Epoch 38/100\n",
      "4/4 [==============================] - 0s 14ms/step - loss: 0.0183 - val_loss: 0.1032\n",
      "Epoch 39/100\n",
      "4/4 [==============================] - 0s 12ms/step - loss: 0.0196 - val_loss: 0.0896\n",
      "Epoch 40/100\n",
      "4/4 [==============================] - 0s 11ms/step - loss: 0.0186 - val_loss: 0.0948\n",
      "Epoch 41/100\n",
      "4/4 [==============================] - 0s 13ms/step - loss: 0.0180 - val_loss: 0.1206\n",
      "Epoch 42/100\n",
      "4/4 [==============================] - 0s 12ms/step - loss: 0.0199 - val_loss: 0.1054\n",
      "Epoch 43/100\n",
      "4/4 [==============================] - 0s 12ms/step - loss: 0.0186 - val_loss: 0.1050\n",
      "Epoch 44/100\n",
      "4/4 [==============================] - 0s 15ms/step - loss: 0.0182 - val_loss: 0.1194\n",
      "Epoch 45/100\n",
      "4/4 [==============================] - 0s 13ms/step - loss: 0.0184 - val_loss: 0.0847\n",
      "Epoch 46/100\n",
      "4/4 [==============================] - 0s 11ms/step - loss: 0.0184 - val_loss: 0.1133\n",
      "Epoch 47/100\n",
      "4/4 [==============================] - 0s 13ms/step - loss: 0.0188 - val_loss: 0.1170\n",
      "Epoch 48/100\n",
      "4/4 [==============================] - 0s 12ms/step - loss: 0.0190 - val_loss: 0.0915\n",
      "Epoch 49/100\n",
      "4/4 [==============================] - 0s 12ms/step - loss: 0.0195 - val_loss: 0.1123\n",
      "Epoch 50/100\n",
      "4/4 [==============================] - 0s 13ms/step - loss: 0.0192 - val_loss: 0.0869\n",
      "Epoch 51/100\n",
      "4/4 [==============================] - 0s 12ms/step - loss: 0.0190 - val_loss: 0.1148\n",
      "Epoch 52/100\n",
      "4/4 [==============================] - 0s 14ms/step - loss: 0.0192 - val_loss: 0.1007\n",
      "Epoch 53/100\n",
      "4/4 [==============================] - 0s 13ms/step - loss: 0.0197 - val_loss: 0.1167\n",
      "Epoch 54/100\n",
      "4/4 [==============================] - 0s 14ms/step - loss: 0.0189 - val_loss: 0.1077\n",
      "Epoch 55/100\n",
      "4/4 [==============================] - 0s 12ms/step - loss: 0.0215 - val_loss: 0.0921\n",
      "Epoch 56/100\n",
      "4/4 [==============================] - 0s 12ms/step - loss: 0.0182 - val_loss: 0.0965\n",
      "Epoch 57/100\n",
      "4/4 [==============================] - 0s 12ms/step - loss: 0.0187 - val_loss: 0.1101\n",
      "Epoch 58/100\n",
      "4/4 [==============================] - 0s 15ms/step - loss: 0.0197 - val_loss: 0.1042\n",
      "Epoch 59/100\n",
      "4/4 [==============================] - 0s 12ms/step - loss: 0.0193 - val_loss: 0.0950\n",
      "Epoch 60/100\n",
      "4/4 [==============================] - 0s 14ms/step - loss: 0.0185 - val_loss: 0.1134\n",
      "Epoch 61/100\n",
      "4/4 [==============================] - 0s 13ms/step - loss: 0.0188 - val_loss: 0.1246\n",
      "Epoch 62/100\n",
      "4/4 [==============================] - 0s 13ms/step - loss: 0.0194 - val_loss: 0.1055\n",
      "Epoch 63/100\n",
      "4/4 [==============================] - 0s 12ms/step - loss: 0.0186 - val_loss: 0.1087\n",
      "Epoch 64/100\n",
      "4/4 [==============================] - 0s 13ms/step - loss: 0.0186 - val_loss: 0.0837\n",
      "Epoch 65/100\n",
      "4/4 [==============================] - 0s 14ms/step - loss: 0.0182 - val_loss: 0.1034\n",
      "Epoch 66/100\n",
      "4/4 [==============================] - 0s 13ms/step - loss: 0.0180 - val_loss: 0.1018\n",
      "Epoch 67/100\n",
      "4/4 [==============================] - 0s 15ms/step - loss: 0.0185 - val_loss: 0.1233\n",
      "Epoch 68/100\n",
      "4/4 [==============================] - 0s 15ms/step - loss: 0.0182 - val_loss: 0.0999\n",
      "Epoch 69/100\n",
      "4/4 [==============================] - 0s 13ms/step - loss: 0.0180 - val_loss: 0.1176\n",
      "Epoch 70/100\n",
      "4/4 [==============================] - 0s 11ms/step - loss: 0.0180 - val_loss: 0.0906\n",
      "Epoch 71/100\n",
      "4/4 [==============================] - 0s 13ms/step - loss: 0.0183 - val_loss: 0.0943\n",
      "Epoch 72/100\n",
      "4/4 [==============================] - 0s 11ms/step - loss: 0.0187 - val_loss: 0.1218\n",
      "Epoch 73/100\n",
      "4/4 [==============================] - 0s 12ms/step - loss: 0.0215 - val_loss: 0.1110\n",
      "Epoch 74/100\n",
      "4/4 [==============================] - 0s 13ms/step - loss: 0.0193 - val_loss: 0.1206\n",
      "Epoch 75/100\n",
      "4/4 [==============================] - 0s 12ms/step - loss: 0.0186 - val_loss: 0.0954\n",
      "Epoch 76/100\n",
      "4/4 [==============================] - 0s 12ms/step - loss: 0.0223 - val_loss: 0.0821\n",
      "Epoch 77/100\n",
      "4/4 [==============================] - 0s 12ms/step - loss: 0.0197 - val_loss: 0.1037\n",
      "Epoch 78/100\n",
      "4/4 [==============================] - 0s 15ms/step - loss: 0.0182 - val_loss: 0.1181\n",
      "Epoch 79/100\n",
      "4/4 [==============================] - 0s 12ms/step - loss: 0.0181 - val_loss: 0.0881\n",
      "Epoch 80/100\n",
      "4/4 [==============================] - 0s 12ms/step - loss: 0.0184 - val_loss: 0.0917\n",
      "Epoch 81/100\n",
      "4/4 [==============================] - 0s 13ms/step - loss: 0.0204 - val_loss: 0.1039\n",
      "Epoch 82/100\n",
      "4/4 [==============================] - 0s 12ms/step - loss: 0.0181 - val_loss: 0.1218\n",
      "Epoch 83/100\n",
      "4/4 [==============================] - 0s 13ms/step - loss: 0.0188 - val_loss: 0.1233\n"
     ]
    },
    {
     "name": "stdout",
     "output_type": "stream",
     "text": [
      "Epoch 84/100\n",
      "4/4 [==============================] - 0s 14ms/step - loss: 0.0184 - val_loss: 0.0868\n",
      "Epoch 85/100\n",
      "4/4 [==============================] - 0s 12ms/step - loss: 0.0204 - val_loss: 0.0981\n",
      "Epoch 86/100\n",
      "4/4 [==============================] - 0s 11ms/step - loss: 0.0184 - val_loss: 0.1101\n",
      "Epoch 87/100\n",
      "4/4 [==============================] - 0s 12ms/step - loss: 0.0182 - val_loss: 0.1110\n",
      "Epoch 88/100\n",
      "4/4 [==============================] - 0s 12ms/step - loss: 0.0181 - val_loss: 0.1138\n",
      "Epoch 89/100\n",
      "4/4 [==============================] - 0s 13ms/step - loss: 0.0186 - val_loss: 0.1430\n",
      "Epoch 90/100\n",
      "4/4 [==============================] - 0s 13ms/step - loss: 0.0216 - val_loss: 0.1184\n",
      "Epoch 91/100\n",
      "4/4 [==============================] - 0s 12ms/step - loss: 0.0178 - val_loss: 0.0898\n",
      "Epoch 92/100\n",
      "4/4 [==============================] - 0s 12ms/step - loss: 0.0183 - val_loss: 0.1007\n",
      "Epoch 93/100\n",
      "4/4 [==============================] - 0s 12ms/step - loss: 0.0186 - val_loss: 0.1068\n",
      "Epoch 94/100\n",
      "4/4 [==============================] - 0s 12ms/step - loss: 0.0182 - val_loss: 0.1057\n",
      "Epoch 95/100\n",
      "4/4 [==============================] - 0s 13ms/step - loss: 0.0178 - val_loss: 0.0793\n",
      "Epoch 96/100\n",
      "4/4 [==============================] - 0s 13ms/step - loss: 0.0212 - val_loss: 0.0971\n",
      "Epoch 97/100\n",
      "4/4 [==============================] - 0s 14ms/step - loss: 0.0197 - val_loss: 0.0900\n",
      "Epoch 98/100\n",
      "4/4 [==============================] - 0s 12ms/step - loss: 0.0189 - val_loss: 0.0879\n",
      "Epoch 99/100\n",
      "4/4 [==============================] - 0s 12ms/step - loss: 0.0184 - val_loss: 0.0880\n",
      "Epoch 100/100\n",
      "4/4 [==============================] - 0s 12ms/step - loss: 0.0186 - val_loss: 0.0886\n"
     ]
    },
    {
     "data": {
      "text/plain": [
       "<tensorflow.python.keras.callbacks.History at 0x2494faa5e50>"
      ]
     },
     "execution_count": 51,
     "metadata": {},
     "output_type": "execute_result"
    }
   ],
   "source": [
    "model.fit(X, y, epochs=100, validation_split=0.25) # 총 데이터에서 25% 를 검증용으로 떼어 놓는다"
   ]
  },
  {
   "cell_type": "code",
   "execution_count": 52,
   "id": "90126987",
   "metadata": {},
   "outputs": [],
   "source": [
    "h = model.history.history"
   ]
  },
  {
   "cell_type": "code",
   "execution_count": 53,
   "id": "4bdbd94a",
   "metadata": {},
   "outputs": [
    {
     "data": {
      "text/plain": [
       "(0.0, 1.0)"
      ]
     },
     "execution_count": 53,
     "metadata": {},
     "output_type": "execute_result"
    },
    {
     "data": {
      "image/png": "[encoded data removed]",
      "text/plain": [
       "<Figure size 432x288 with 1 Axes>"
      ]
     },
     "metadata": {
      "needs_background": "light"
     },
     "output_type": "display_data"
    }
   ],
   "source": [
    "plt.plot(h['loss'])\n",
    "plt.plot(h['val_loss'])\n",
    "plt.legend(['loss', 'val_loss'])\n",
    "plt.ylim(0,1)"
   ]
  },
  {
   "cell_type": "code",
   "execution_count": 54,
   "id": "c9418313",
   "metadata": {},
   "outputs": [
    {
     "data": {
      "text/plain": [
       "<matplotlib.legend.Legend at 0x24953219310>"
      ]
     },
     "execution_count": 54,
     "metadata": {},
     "output_type": "execute_result"
    },
    {
     "data": {
      "image/png": "[encoded data removed]",
      "text/plain": [
       "<Figure size 432x288 with 1 Axes>"
      ]
     },
     "metadata": {
      "needs_background": "light"
     },
     "output_type": "display_data"
    }
   ],
   "source": [
    "y_pred = model.predict(X)\n",
    "plt.plot(y_pred)\n",
    "plt.plot(y)\n",
    "plt.legend(['y_pred', 'y'])"
   ]
  },
  {
   "cell_type": "code",
   "execution_count": null,
   "id": "c3754162",
   "metadata": {},
   "outputs": [],
   "source": []
  },
  {
   "cell_type": "markdown",
   "id": "d6bdcc54",
   "metadata": {},
   "source": [
    "### 중간층 추가"
   ]
  },
  {
   "cell_type": "code",
   "execution_count": 55,
   "id": "2850ffd9",
   "metadata": {},
   "outputs": [
    {
     "name": "stdout",
     "output_type": "stream",
     "text": [
      "Model: \"sequential_8\"\n",
      "_________________________________________________________________\n",
      "Layer (type)                 Output Shape              Param #   \n",
      "=================================================================\n",
      "dense_13 (Dense)             (None, 2)                 8         \n",
      "_________________________________________________________________\n",
      "dense_14 (Dense)             (None, 1)                 3         \n",
      "=================================================================\n",
      "Total params: 11\n",
      "Trainable params: 11\n",
      "Non-trainable params: 0\n",
      "_________________________________________________________________\n"
     ]
    }
   ],
   "source": [
    "model = keras.models.Sequential()\n",
    "model.add(keras.layers.Dense(2, input_shape=(3,), activation='relu'))\n",
    "model.add(keras.layers.Dense(1))\n",
    "model.summary()"
   ]
  },
  {
   "cell_type": "code",
   "execution_count": 56,
   "id": "d86e8bd4",
   "metadata": {},
   "outputs": [],
   "source": [
    "model.compile(loss='mse', optimizer='sgd')"
   ]
  },
  {
   "cell_type": "code",
   "execution_count": 57,
   "id": "aca99474",
   "metadata": {
    "scrolled": true
   },
   "outputs": [
    {
     "name": "stdout",
     "output_type": "stream",
     "text": [
      "Epoch 1/100\n",
      "4/4 [==============================] - 0s 42ms/step - loss: 1.9015 - val_loss: 3.2648\n",
      "Epoch 2/100\n",
      "4/4 [==============================] - 0s 17ms/step - loss: 0.7242 - val_loss: 1.5803\n",
      "Epoch 3/100\n",
      "4/4 [==============================] - 0s 17ms/step - loss: 0.2856 - val_loss: 0.7791\n",
      "Epoch 4/100\n",
      "4/4 [==============================] - 0s 15ms/step - loss: 0.1381 - val_loss: 0.3916\n",
      "Epoch 5/100\n",
      "4/4 [==============================] - 0s 16ms/step - loss: 0.1037 - val_loss: 0.3559\n",
      "Epoch 6/100\n",
      "4/4 [==============================] - 0s 16ms/step - loss: 0.0988 - val_loss: 0.2904\n",
      "Epoch 7/100\n",
      "4/4 [==============================] - 0s 15ms/step - loss: 0.0953 - val_loss: 0.3149\n",
      "Epoch 8/100\n",
      "4/4 [==============================] - 0s 16ms/step - loss: 0.0893 - val_loss: 0.2824\n",
      "Epoch 9/100\n",
      "4/4 [==============================] - 0s 14ms/step - loss: 0.0852 - val_loss: 0.3165\n",
      "Epoch 10/100\n",
      "4/4 [==============================] - 0s 14ms/step - loss: 0.0814 - val_loss: 0.2769\n",
      "Epoch 11/100\n",
      "4/4 [==============================] - 0s 16ms/step - loss: 0.0772 - val_loss: 0.2925\n",
      "Epoch 12/100\n",
      "4/4 [==============================] - 0s 15ms/step - loss: 0.0747 - val_loss: 0.3018\n",
      "Epoch 13/100\n",
      "4/4 [==============================] - 0s 15ms/step - loss: 0.0706 - val_loss: 0.2823\n",
      "Epoch 14/100\n",
      "4/4 [==============================] - 0s 14ms/step - loss: 0.0680 - val_loss: 0.2521\n",
      "Epoch 15/100\n",
      "4/4 [==============================] - 0s 13ms/step - loss: 0.0659 - val_loss: 0.2495\n",
      "Epoch 16/100\n",
      "4/4 [==============================] - 0s 13ms/step - loss: 0.0630 - val_loss: 0.2572\n",
      "Epoch 17/100\n",
      "4/4 [==============================] - 0s 12ms/step - loss: 0.0625 - val_loss: 0.2709\n",
      "Epoch 18/100\n",
      "4/4 [==============================] - 0s 13ms/step - loss: 0.0595 - val_loss: 0.2812\n",
      "Epoch 19/100\n",
      "4/4 [==============================] - 0s 14ms/step - loss: 0.0580 - val_loss: 0.2708\n",
      "Epoch 20/100\n",
      "4/4 [==============================] - 0s 14ms/step - loss: 0.0572 - val_loss: 0.2776\n",
      "Epoch 21/100\n",
      "4/4 [==============================] - 0s 14ms/step - loss: 0.0560 - val_loss: 0.2447\n",
      "Epoch 22/100\n",
      "4/4 [==============================] - 0s 14ms/step - loss: 0.0549 - val_loss: 0.2656\n",
      "Epoch 23/100\n",
      "4/4 [==============================] - 0s 12ms/step - loss: 0.0535 - val_loss: 0.2413\n",
      "Epoch 24/100\n",
      "4/4 [==============================] - 0s 14ms/step - loss: 0.0527 - val_loss: 0.2498\n",
      "Epoch 25/100\n",
      "4/4 [==============================] - 0s 14ms/step - loss: 0.0525 - val_loss: 0.2420\n",
      "Epoch 26/100\n",
      "4/4 [==============================] - 0s 13ms/step - loss: 0.0519 - val_loss: 0.2374\n",
      "Epoch 27/100\n",
      "4/4 [==============================] - 0s 15ms/step - loss: 0.0512 - val_loss: 0.2286\n",
      "Epoch 28/100\n",
      "4/4 [==============================] - 0s 15ms/step - loss: 0.0504 - val_loss: 0.2387\n",
      "Epoch 29/100\n",
      "4/4 [==============================] - 0s 14ms/step - loss: 0.0504 - val_loss: 0.2211\n",
      "Epoch 30/100\n",
      "4/4 [==============================] - 0s 14ms/step - loss: 0.0494 - val_loss: 0.2120\n",
      "Epoch 31/100\n",
      "4/4 [==============================] - 0s 14ms/step - loss: 0.0500 - val_loss: 0.2253\n",
      "Epoch 32/100\n",
      "4/4 [==============================] - 0s 14ms/step - loss: 0.0489 - val_loss: 0.2003\n",
      "Epoch 33/100\n",
      "4/4 [==============================] - 0s 16ms/step - loss: 0.0488 - val_loss: 0.2363\n",
      "Epoch 34/100\n",
      "4/4 [==============================] - 0s 14ms/step - loss: 0.0488 - val_loss: 0.2224\n",
      "Epoch 35/100\n",
      "4/4 [==============================] - 0s 13ms/step - loss: 0.0488 - val_loss: 0.1982\n",
      "Epoch 36/100\n",
      "4/4 [==============================] - 0s 16ms/step - loss: 0.0487 - val_loss: 0.1912\n",
      "Epoch 37/100\n",
      "4/4 [==============================] - 0s 15ms/step - loss: 0.0484 - val_loss: 0.2091\n",
      "Epoch 38/100\n",
      "4/4 [==============================] - 0s 15ms/step - loss: 0.0484 - val_loss: 0.1735\n",
      "Epoch 39/100\n",
      "4/4 [==============================] - 0s 14ms/step - loss: 0.0492 - val_loss: 0.1958\n",
      "Epoch 40/100\n",
      "4/4 [==============================] - 0s 14ms/step - loss: 0.0473 - val_loss: 0.1968\n",
      "Epoch 41/100\n",
      "4/4 [==============================] - 0s 13ms/step - loss: 0.0489 - val_loss: 0.2083\n",
      "Epoch 42/100\n",
      "4/4 [==============================] - 0s 13ms/step - loss: 0.0471 - val_loss: 0.2144\n",
      "Epoch 43/100\n",
      "4/4 [==============================] - 0s 15ms/step - loss: 0.0467 - val_loss: 0.2068\n",
      "Epoch 44/100\n",
      "4/4 [==============================] - 0s 13ms/step - loss: 0.0468 - val_loss: 0.2066\n",
      "Epoch 45/100\n",
      "4/4 [==============================] - 0s 15ms/step - loss: 0.0468 - val_loss: 0.2060\n",
      "Epoch 46/100\n",
      "4/4 [==============================] - 0s 15ms/step - loss: 0.0465 - val_loss: 0.2178\n",
      "Epoch 47/100\n",
      "4/4 [==============================] - 0s 14ms/step - loss: 0.0464 - val_loss: 0.2057\n",
      "Epoch 48/100\n",
      "4/4 [==============================] - 0s 13ms/step - loss: 0.0463 - val_loss: 0.1908\n",
      "Epoch 49/100\n",
      "4/4 [==============================] - 0s 17ms/step - loss: 0.0472 - val_loss: 0.1856\n",
      "Epoch 50/100\n",
      "4/4 [==============================] - 0s 15ms/step - loss: 0.0472 - val_loss: 0.1780\n",
      "Epoch 51/100\n",
      "4/4 [==============================] - 0s 14ms/step - loss: 0.0467 - val_loss: 0.1907\n",
      "Epoch 52/100\n",
      "4/4 [==============================] - 0s 13ms/step - loss: 0.0465 - val_loss: 0.1998\n",
      "Epoch 53/100\n",
      "4/4 [==============================] - 0s 13ms/step - loss: 0.0461 - val_loss: 0.1939\n",
      "Epoch 54/100\n",
      "4/4 [==============================] - 0s 12ms/step - loss: 0.0459 - val_loss: 0.1963\n",
      "Epoch 55/100\n",
      "4/4 [==============================] - 0s 14ms/step - loss: 0.0456 - val_loss: 0.1934\n",
      "Epoch 56/100\n",
      "4/4 [==============================] - 0s 14ms/step - loss: 0.0460 - val_loss: 0.2055\n",
      "Epoch 57/100\n",
      "4/4 [==============================] - 0s 13ms/step - loss: 0.0455 - val_loss: 0.2029\n",
      "Epoch 58/100\n",
      "4/4 [==============================] - 0s 14ms/step - loss: 0.0453 - val_loss: 0.1980\n",
      "Epoch 59/100\n",
      "4/4 [==============================] - 0s 15ms/step - loss: 0.0453 - val_loss: 0.2119\n",
      "Epoch 60/100\n",
      "4/4 [==============================] - 0s 13ms/step - loss: 0.0458 - val_loss: 0.1997\n",
      "Epoch 61/100\n",
      "4/4 [==============================] - 0s 12ms/step - loss: 0.0452 - val_loss: 0.2005\n",
      "Epoch 62/100\n",
      "4/4 [==============================] - 0s 13ms/step - loss: 0.0451 - val_loss: 0.2117\n",
      "Epoch 63/100\n",
      "4/4 [==============================] - 0s 13ms/step - loss: 0.0454 - val_loss: 0.1905\n",
      "Epoch 64/100\n",
      "4/4 [==============================] - 0s 13ms/step - loss: 0.0453 - val_loss: 0.1940\n",
      "Epoch 65/100\n",
      "4/4 [==============================] - 0s 12ms/step - loss: 0.0458 - val_loss: 0.2000\n",
      "Epoch 66/100\n",
      "4/4 [==============================] - 0s 18ms/step - loss: 0.0448 - val_loss: 0.2077\n",
      "Epoch 67/100\n",
      "4/4 [==============================] - 0s 11ms/step - loss: 0.0452 - val_loss: 0.2144\n",
      "Epoch 68/100\n",
      "4/4 [==============================] - 0s 14ms/step - loss: 0.0448 - val_loss: 0.2022\n",
      "Epoch 69/100\n",
      "4/4 [==============================] - 0s 14ms/step - loss: 0.0448 - val_loss: 0.1995\n",
      "Epoch 70/100\n",
      "4/4 [==============================] - 0s 13ms/step - loss: 0.0446 - val_loss: 0.2088\n",
      "Epoch 71/100\n",
      "4/4 [==============================] - 0s 13ms/step - loss: 0.0448 - val_loss: 0.1966\n",
      "Epoch 72/100\n",
      "4/4 [==============================] - 0s 14ms/step - loss: 0.0450 - val_loss: 0.1964\n",
      "Epoch 73/100\n",
      "4/4 [==============================] - 0s 13ms/step - loss: 0.0445 - val_loss: 0.1791\n",
      "Epoch 74/100\n",
      "4/4 [==============================] - 0s 12ms/step - loss: 0.0444 - val_loss: 0.1887\n",
      "Epoch 75/100\n",
      "4/4 [==============================] - 0s 13ms/step - loss: 0.0443 - val_loss: 0.1998\n",
      "Epoch 76/100\n",
      "4/4 [==============================] - 0s 13ms/step - loss: 0.0447 - val_loss: 0.1955\n",
      "Epoch 77/100\n",
      "4/4 [==============================] - 0s 14ms/step - loss: 0.0449 - val_loss: 0.2099\n",
      "Epoch 78/100\n",
      "4/4 [==============================] - 0s 15ms/step - loss: 0.0452 - val_loss: 0.1986\n",
      "Epoch 79/100\n",
      "4/4 [==============================] - 0s 14ms/step - loss: 0.0441 - val_loss: 0.1814\n",
      "Epoch 80/100\n",
      "4/4 [==============================] - 0s 13ms/step - loss: 0.0446 - val_loss: 0.2019\n",
      "Epoch 81/100\n",
      "4/4 [==============================] - 0s 12ms/step - loss: 0.0440 - val_loss: 0.1872\n",
      "Epoch 82/100\n",
      "4/4 [==============================] - 0s 13ms/step - loss: 0.0445 - val_loss: 0.1965\n",
      "Epoch 83/100\n",
      "4/4 [==============================] - 0s 14ms/step - loss: 0.0439 - val_loss: 0.1954\n"
     ]
    },
    {
     "name": "stdout",
     "output_type": "stream",
     "text": [
      "Epoch 84/100\n",
      "4/4 [==============================] - 0s 13ms/step - loss: 0.0439 - val_loss: 0.2103\n",
      "Epoch 85/100\n",
      "4/4 [==============================] - 0s 13ms/step - loss: 0.0436 - val_loss: 0.1938\n",
      "Epoch 86/100\n",
      "4/4 [==============================] - 0s 12ms/step - loss: 0.0434 - val_loss: 0.2001\n",
      "Epoch 87/100\n",
      "4/4 [==============================] - 0s 13ms/step - loss: 0.0434 - val_loss: 0.1904\n",
      "Epoch 88/100\n",
      "4/4 [==============================] - 0s 13ms/step - loss: 0.0457 - val_loss: 0.1918\n",
      "Epoch 89/100\n",
      "4/4 [==============================] - 0s 12ms/step - loss: 0.0432 - val_loss: 0.2032\n",
      "Epoch 90/100\n",
      "4/4 [==============================] - 0s 13ms/step - loss: 0.0434 - val_loss: 0.2054\n",
      "Epoch 91/100\n",
      "4/4 [==============================] - 0s 13ms/step - loss: 0.0435 - val_loss: 0.1843\n",
      "Epoch 92/100\n",
      "4/4 [==============================] - 0s 13ms/step - loss: 0.0433 - val_loss: 0.2031\n",
      "Epoch 93/100\n",
      "4/4 [==============================] - 0s 13ms/step - loss: 0.0435 - val_loss: 0.1937\n",
      "Epoch 94/100\n",
      "4/4 [==============================] - 0s 12ms/step - loss: 0.0434 - val_loss: 0.2025\n",
      "Epoch 95/100\n",
      "4/4 [==============================] - 0s 13ms/step - loss: 0.0430 - val_loss: 0.1980\n",
      "Epoch 96/100\n",
      "4/4 [==============================] - 0s 12ms/step - loss: 0.0435 - val_loss: 0.1903\n",
      "Epoch 97/100\n",
      "4/4 [==============================] - 0s 14ms/step - loss: 0.0431 - val_loss: 0.1775\n",
      "Epoch 98/100\n",
      "4/4 [==============================] - 0s 14ms/step - loss: 0.0435 - val_loss: 0.1931\n",
      "Epoch 99/100\n",
      "4/4 [==============================] - 0s 12ms/step - loss: 0.0427 - val_loss: 0.1884\n",
      "Epoch 100/100\n",
      "4/4 [==============================] - 0s 14ms/step - loss: 0.0425 - val_loss: 0.1923\n"
     ]
    },
    {
     "data": {
      "text/plain": [
       "<tensorflow.python.keras.callbacks.History at 0x248a16e1070>"
      ]
     },
     "execution_count": 57,
     "metadata": {},
     "output_type": "execute_result"
    }
   ],
   "source": [
    "model.fit(X, y, epochs=100, validation_split=0.25)"
   ]
  },
  {
   "cell_type": "code",
   "execution_count": 58,
   "id": "7f42a3d4",
   "metadata": {},
   "outputs": [],
   "source": [
    "h = model.history.history"
   ]
  },
  {
   "cell_type": "code",
   "execution_count": 59,
   "id": "3dd4c232",
   "metadata": {},
   "outputs": [
    {
     "data": {
      "text/plain": [
       "<matplotlib.legend.Legend at 0x24897299460>"
      ]
     },
     "execution_count": 59,
     "metadata": {},
     "output_type": "execute_result"
    },
    {
     "data": {
      "image/png": "[encoded data removed]",
      "text/plain": [
       "<Figure size 432x288 with 1 Axes>"
      ]
     },
     "metadata": {
      "needs_background": "light"
     },
     "output_type": "display_data"
    }
   ],
   "source": [
    "plt.plot(h['loss'])\n",
    "plt.plot(h['val_loss'])\n",
    "plt.legend(['loss', 'val_loss'])"
   ]
  },
  {
   "cell_type": "code",
   "execution_count": 60,
   "id": "1e1219a2",
   "metadata": {},
   "outputs": [
    {
     "data": {
      "text/plain": [
       "<matplotlib.legend.Legend at 0x2495b491790>"
      ]
     },
     "execution_count": 60,
     "metadata": {},
     "output_type": "execute_result"
    },
    {
     "data": {
      "image/png": "[encoded data removed]",
      "text/plain": [
       "<Figure size 432x288 with 1 Axes>"
      ]
     },
     "metadata": {
      "needs_background": "light"
     },
     "output_type": "display_data"
    }
   ],
   "source": [
    "y_pred = model.predict(X)\n",
    "plt.plot(y_pred)\n",
    "plt.plot(y)\n",
    "plt.legend(['y_pred', 'y'])"
   ]
  },
  {
   "cell_type": "code",
   "execution_count": null,
   "id": "288d83f5",
   "metadata": {},
   "outputs": [],
   "source": []
  },
  {
   "cell_type": "code",
   "execution_count": 61,
   "id": "3edad3ea",
   "metadata": {},
   "outputs": [
    {
     "name": "stdout",
     "output_type": "stream",
     "text": [
      "Model: \"sequential_9\"\n",
      "_________________________________________________________________\n",
      "Layer (type)                 Output Shape              Param #   \n",
      "=================================================================\n",
      "dense_15 (Dense)             (None, 10)                40        \n",
      "_________________________________________________________________\n",
      "dense_16 (Dense)             (None, 5)                 55        \n",
      "_________________________________________________________________\n",
      "dense_17 (Dense)             (None, 1)                 6         \n",
      "=================================================================\n",
      "Total params: 101\n",
      "Trainable params: 101\n",
      "Non-trainable params: 0\n",
      "_________________________________________________________________\n"
     ]
    }
   ],
   "source": [
    "model = keras.models.Sequential()\n",
    "model.add(keras.layers.Dense(10, input_shape=(3,), activation='relu'))\n",
    "model.add(keras.layers.Dense(5, activation='relu'))\n",
    "model.add(keras.layers.Dense(1))\n",
    "model.summary()"
   ]
  },
  {
   "cell_type": "code",
   "execution_count": 62,
   "id": "5879a65b",
   "metadata": {},
   "outputs": [],
   "source": [
    "model.compile(loss='mse', optimizer='sgd')"
   ]
  },
  {
   "cell_type": "code",
   "execution_count": 63,
   "id": "9605a29c",
   "metadata": {
    "scrolled": true
   },
   "outputs": [
    {
     "name": "stdout",
     "output_type": "stream",
     "text": [
      "Epoch 1/100\n",
      "4/4 [==============================] - 0s 45ms/step - loss: 0.9321 - val_loss: 0.5805\n",
      "Epoch 2/100\n",
      "4/4 [==============================] - 0s 16ms/step - loss: 0.1844 - val_loss: 0.2966\n",
      "Epoch 3/100\n",
      "4/4 [==============================] - 0s 16ms/step - loss: 0.1532 - val_loss: 0.2942\n",
      "Epoch 4/100\n",
      "4/4 [==============================] - 0s 16ms/step - loss: 0.1376 - val_loss: 0.3237\n",
      "Epoch 5/100\n",
      "4/4 [==============================] - 0s 16ms/step - loss: 0.1309 - val_loss: 0.4029\n",
      "Epoch 6/100\n",
      "4/4 [==============================] - 0s 16ms/step - loss: 0.1160 - val_loss: 0.2593\n",
      "Epoch 7/100\n",
      "4/4 [==============================] - 0s 16ms/step - loss: 0.1145 - val_loss: 0.2578\n",
      "Epoch 8/100\n",
      "4/4 [==============================] - 0s 17ms/step - loss: 0.0999 - val_loss: 0.2797\n",
      "Epoch 9/100\n",
      "4/4 [==============================] - 0s 14ms/step - loss: 0.0904 - val_loss: 0.2116\n",
      "Epoch 10/100\n",
      "4/4 [==============================] - 0s 14ms/step - loss: 0.0838 - val_loss: 0.2954\n",
      "Epoch 11/100\n",
      "4/4 [==============================] - 0s 16ms/step - loss: 0.0768 - val_loss: 0.2730\n",
      "Epoch 12/100\n",
      "4/4 [==============================] - 0s 16ms/step - loss: 0.0691 - val_loss: 0.2134\n",
      "Epoch 13/100\n",
      "4/4 [==============================] - 0s 12ms/step - loss: 0.0619 - val_loss: 0.2367\n",
      "Epoch 14/100\n",
      "4/4 [==============================] - 0s 15ms/step - loss: 0.0576 - val_loss: 0.2234\n",
      "Epoch 15/100\n",
      "4/4 [==============================] - 0s 15ms/step - loss: 0.0517 - val_loss: 0.1703\n",
      "Epoch 16/100\n",
      "4/4 [==============================] - 0s 13ms/step - loss: 0.0461 - val_loss: 0.1685\n",
      "Epoch 17/100\n",
      "4/4 [==============================] - 0s 14ms/step - loss: 0.0419 - val_loss: 0.1589\n",
      "Epoch 18/100\n",
      "4/4 [==============================] - 0s 13ms/step - loss: 0.0386 - val_loss: 0.1743\n",
      "Epoch 19/100\n",
      "4/4 [==============================] - 0s 13ms/step - loss: 0.0348 - val_loss: 0.1788\n",
      "Epoch 20/100\n",
      "4/4 [==============================] - 0s 11ms/step - loss: 0.0337 - val_loss: 0.1486\n",
      "Epoch 21/100\n",
      "4/4 [==============================] - 0s 14ms/step - loss: 0.0302 - val_loss: 0.1599\n",
      "Epoch 22/100\n",
      "4/4 [==============================] - 0s 14ms/step - loss: 0.0276 - val_loss: 0.1621\n",
      "Epoch 23/100\n",
      "4/4 [==============================] - 0s 14ms/step - loss: 0.0260 - val_loss: 0.1381\n",
      "Epoch 24/100\n",
      "4/4 [==============================] - 0s 14ms/step - loss: 0.0243 - val_loss: 0.1443\n",
      "Epoch 25/100\n",
      "4/4 [==============================] - 0s 14ms/step - loss: 0.0233 - val_loss: 0.1181\n",
      "Epoch 26/100\n",
      "4/4 [==============================] - 0s 13ms/step - loss: 0.0225 - val_loss: 0.1386\n",
      "Epoch 27/100\n",
      "4/4 [==============================] - 0s 14ms/step - loss: 0.0214 - val_loss: 0.1377\n",
      "Epoch 28/100\n",
      "4/4 [==============================] - 0s 14ms/step - loss: 0.0213 - val_loss: 0.1302\n",
      "Epoch 29/100\n",
      "4/4 [==============================] - 0s 13ms/step - loss: 0.0212 - val_loss: 0.1324\n",
      "Epoch 30/100\n",
      "4/4 [==============================] - 0s 14ms/step - loss: 0.0205 - val_loss: 0.1249\n",
      "Epoch 31/100\n",
      "4/4 [==============================] - 0s 14ms/step - loss: 0.0198 - val_loss: 0.1360\n",
      "Epoch 32/100\n",
      "4/4 [==============================] - 0s 13ms/step - loss: 0.0209 - val_loss: 0.1389\n",
      "Epoch 33/100\n",
      "4/4 [==============================] - 0s 13ms/step - loss: 0.0194 - val_loss: 0.0920\n",
      "Epoch 34/100\n",
      "4/4 [==============================] - 0s 15ms/step - loss: 0.0215 - val_loss: 0.1259\n",
      "Epoch 35/100\n",
      "4/4 [==============================] - 0s 13ms/step - loss: 0.0197 - val_loss: 0.1252\n",
      "Epoch 36/100\n",
      "4/4 [==============================] - 0s 15ms/step - loss: 0.0191 - val_loss: 0.1263\n",
      "Epoch 37/100\n",
      "4/4 [==============================] - 0s 15ms/step - loss: 0.0197 - val_loss: 0.1173\n",
      "Epoch 38/100\n",
      "4/4 [==============================] - 0s 14ms/step - loss: 0.0187 - val_loss: 0.1186\n",
      "Epoch 39/100\n",
      "4/4 [==============================] - 0s 14ms/step - loss: 0.0193 - val_loss: 0.1272\n",
      "Epoch 40/100\n",
      "4/4 [==============================] - 0s 15ms/step - loss: 0.0191 - val_loss: 0.1149\n",
      "Epoch 41/100\n",
      "4/4 [==============================] - 0s 14ms/step - loss: 0.0187 - val_loss: 0.1291\n",
      "Epoch 42/100\n",
      "4/4 [==============================] - 0s 14ms/step - loss: 0.0189 - val_loss: 0.1287\n",
      "Epoch 43/100\n",
      "4/4 [==============================] - 0s 14ms/step - loss: 0.0189 - val_loss: 0.1127\n",
      "Epoch 44/100\n",
      "4/4 [==============================] - 0s 14ms/step - loss: 0.0185 - val_loss: 0.1277\n",
      "Epoch 45/100\n",
      "4/4 [==============================] - 0s 13ms/step - loss: 0.0190 - val_loss: 0.1328\n",
      "Epoch 46/100\n",
      "4/4 [==============================] - 0s 16ms/step - loss: 0.0195 - val_loss: 0.1222\n",
      "Epoch 47/100\n",
      "4/4 [==============================] - 0s 14ms/step - loss: 0.0188 - val_loss: 0.1223\n",
      "Epoch 48/100\n",
      "4/4 [==============================] - 0s 13ms/step - loss: 0.0186 - val_loss: 0.1257\n",
      "Epoch 49/100\n",
      "4/4 [==============================] - 0s 14ms/step - loss: 0.0186 - val_loss: 0.1117\n",
      "Epoch 50/100\n",
      "4/4 [==============================] - 0s 13ms/step - loss: 0.0185 - val_loss: 0.1251\n",
      "Epoch 51/100\n",
      "4/4 [==============================] - 0s 13ms/step - loss: 0.0185 - val_loss: 0.1138\n",
      "Epoch 52/100\n",
      "4/4 [==============================] - 0s 14ms/step - loss: 0.0184 - val_loss: 0.1144\n",
      "Epoch 53/100\n",
      "4/4 [==============================] - 0s 14ms/step - loss: 0.0188 - val_loss: 0.1143\n",
      "Epoch 54/100\n",
      "4/4 [==============================] - 0s 12ms/step - loss: 0.0189 - val_loss: 0.1139\n",
      "Epoch 55/100\n",
      "4/4 [==============================] - 0s 15ms/step - loss: 0.0188 - val_loss: 0.1336\n",
      "Epoch 56/100\n",
      "4/4 [==============================] - 0s 14ms/step - loss: 0.0188 - val_loss: 0.1172\n",
      "Epoch 57/100\n",
      "4/4 [==============================] - 0s 13ms/step - loss: 0.0182 - val_loss: 0.0975\n",
      "Epoch 58/100\n",
      "4/4 [==============================] - 0s 16ms/step - loss: 0.0197 - val_loss: 0.1085\n",
      "Epoch 59/100\n",
      "4/4 [==============================] - 0s 16ms/step - loss: 0.0181 - val_loss: 0.1184\n",
      "Epoch 60/100\n",
      "4/4 [==============================] - 0s 14ms/step - loss: 0.0187 - val_loss: 0.1055\n",
      "Epoch 61/100\n",
      "4/4 [==============================] - 0s 16ms/step - loss: 0.0182 - val_loss: 0.1316\n",
      "Epoch 62/100\n",
      "4/4 [==============================] - 0s 17ms/step - loss: 0.0185 - val_loss: 0.1006\n",
      "Epoch 63/100\n",
      "4/4 [==============================] - 0s 16ms/step - loss: 0.0197 - val_loss: 0.1196\n",
      "Epoch 64/100\n",
      "4/4 [==============================] - 0s 16ms/step - loss: 0.0181 - val_loss: 0.1104\n",
      "Epoch 65/100\n",
      "4/4 [==============================] - 0s 15ms/step - loss: 0.0184 - val_loss: 0.1100\n",
      "Epoch 66/100\n",
      "4/4 [==============================] - 0s 14ms/step - loss: 0.0190 - val_loss: 0.1004\n",
      "Epoch 67/100\n",
      "4/4 [==============================] - 0s 15ms/step - loss: 0.0184 - val_loss: 0.1080\n",
      "Epoch 68/100\n",
      "4/4 [==============================] - 0s 15ms/step - loss: 0.0183 - val_loss: 0.1048\n",
      "Epoch 69/100\n",
      "4/4 [==============================] - 0s 13ms/step - loss: 0.0187 - val_loss: 0.1106\n",
      "Epoch 70/100\n",
      "4/4 [==============================] - 0s 13ms/step - loss: 0.0182 - val_loss: 0.1151\n",
      "Epoch 71/100\n",
      "4/4 [==============================] - 0s 15ms/step - loss: 0.0193 - val_loss: 0.0943\n",
      "Epoch 72/100\n",
      "4/4 [==============================] - 0s 17ms/step - loss: 0.0195 - val_loss: 0.1061\n",
      "Epoch 73/100\n",
      "4/4 [==============================] - 0s 18ms/step - loss: 0.0183 - val_loss: 0.1203\n",
      "Epoch 74/100\n",
      "4/4 [==============================] - 0s 16ms/step - loss: 0.0181 - val_loss: 0.0998\n",
      "Epoch 75/100\n",
      "4/4 [==============================] - 0s 19ms/step - loss: 0.0186 - val_loss: 0.1017\n",
      "Epoch 76/100\n",
      "4/4 [==============================] - 0s 15ms/step - loss: 0.0188 - val_loss: 0.1134\n",
      "Epoch 77/100\n",
      "4/4 [==============================] - 0s 17ms/step - loss: 0.0179 - val_loss: 0.1201\n",
      "Epoch 78/100\n",
      "4/4 [==============================] - 0s 16ms/step - loss: 0.0181 - val_loss: 0.1006\n",
      "Epoch 79/100\n",
      "4/4 [==============================] - 0s 14ms/step - loss: 0.0184 - val_loss: 0.1280\n",
      "Epoch 80/100\n",
      "4/4 [==============================] - 0s 14ms/step - loss: 0.0185 - val_loss: 0.1239\n",
      "Epoch 81/100\n",
      "4/4 [==============================] - 0s 14ms/step - loss: 0.0180 - val_loss: 0.1070\n",
      "Epoch 82/100\n",
      "4/4 [==============================] - 0s 12ms/step - loss: 0.0181 - val_loss: 0.0963\n",
      "Epoch 83/100\n",
      "4/4 [==============================] - 0s 16ms/step - loss: 0.0187 - val_loss: 0.1026\n"
     ]
    },
    {
     "name": "stdout",
     "output_type": "stream",
     "text": [
      "Epoch 84/100\n",
      "4/4 [==============================] - 0s 15ms/step - loss: 0.0181 - val_loss: 0.1107\n",
      "Epoch 85/100\n",
      "4/4 [==============================] - 0s 12ms/step - loss: 0.0182 - val_loss: 0.1198\n",
      "Epoch 86/100\n",
      "4/4 [==============================] - 0s 14ms/step - loss: 0.0183 - val_loss: 0.1167\n",
      "Epoch 87/100\n",
      "4/4 [==============================] - 0s 14ms/step - loss: 0.0180 - val_loss: 0.1005\n",
      "Epoch 88/100\n",
      "4/4 [==============================] - 0s 12ms/step - loss: 0.0183 - val_loss: 0.1130\n",
      "Epoch 89/100\n",
      "4/4 [==============================] - 0s 12ms/step - loss: 0.0179 - val_loss: 0.1002\n",
      "Epoch 90/100\n",
      "4/4 [==============================] - 0s 12ms/step - loss: 0.0180 - val_loss: 0.1152\n",
      "Epoch 91/100\n",
      "4/4 [==============================] - 0s 12ms/step - loss: 0.0179 - val_loss: 0.1222\n",
      "Epoch 92/100\n",
      "4/4 [==============================] - 0s 13ms/step - loss: 0.0188 - val_loss: 0.1141\n",
      "Epoch 93/100\n",
      "4/4 [==============================] - 0s 14ms/step - loss: 0.0183 - val_loss: 0.1131\n",
      "Epoch 94/100\n",
      "4/4 [==============================] - 0s 14ms/step - loss: 0.0179 - val_loss: 0.1292\n",
      "Epoch 95/100\n",
      "4/4 [==============================] - 0s 14ms/step - loss: 0.0188 - val_loss: 0.1056\n",
      "Epoch 96/100\n",
      "4/4 [==============================] - 0s 17ms/step - loss: 0.0178 - val_loss: 0.1035\n",
      "Epoch 97/100\n",
      "4/4 [==============================] - 0s 16ms/step - loss: 0.0179 - val_loss: 0.1057\n",
      "Epoch 98/100\n",
      "4/4 [==============================] - 0s 13ms/step - loss: 0.0186 - val_loss: 0.1383\n",
      "Epoch 99/100\n",
      "4/4 [==============================] - 0s 15ms/step - loss: 0.0187 - val_loss: 0.1138\n",
      "Epoch 100/100\n",
      "4/4 [==============================] - 0s 16ms/step - loss: 0.0179 - val_loss: 0.1146\n"
     ]
    },
    {
     "data": {
      "text/plain": [
       "<tensorflow.python.keras.callbacks.History at 0x2495c4f9400>"
      ]
     },
     "execution_count": 63,
     "metadata": {},
     "output_type": "execute_result"
    }
   ],
   "source": [
    "model.fit(X, y, epochs=100, validation_split=0.25)"
   ]
  },
  {
   "cell_type": "code",
   "execution_count": 64,
   "id": "cf625477",
   "metadata": {},
   "outputs": [],
   "source": [
    "h = model.history.history"
   ]
  },
  {
   "cell_type": "code",
   "execution_count": 65,
   "id": "41ec1112",
   "metadata": {},
   "outputs": [
    {
     "data": {
      "text/plain": [
       "<matplotlib.legend.Legend at 0x2495c5c4be0>"
      ]
     },
     "execution_count": 65,
     "metadata": {},
     "output_type": "execute_result"
    },
    {
     "data": {
      "image/png": "[encoded data removed]",
      "text/plain": [
       "<Figure size 432x288 with 1 Axes>"
      ]
     },
     "metadata": {
      "needs_background": "light"
     },
     "output_type": "display_data"
    }
   ],
   "source": [
    "plt.plot(h['loss'])\n",
    "plt.plot(h['val_loss'])\n",
    "plt.legend(['loss', 'val_loss'])"
   ]
  },
  {
   "cell_type": "code",
   "execution_count": 66,
   "id": "8f58ec90",
   "metadata": {},
   "outputs": [
    {
     "data": {
      "text/plain": [
       "<matplotlib.legend.Legend at 0x2495c627e20>"
      ]
     },
     "execution_count": 66,
     "metadata": {},
     "output_type": "execute_result"
    },
    {
     "data": {
      "image/png": "[encoded data removed]",
      "text/plain": [
       "<Figure size 432x288 with 1 Axes>"
      ]
     },
     "metadata": {
      "needs_background": "light"
     },
     "output_type": "display_data"
    }
   ],
   "source": [
    "y_pred = model.predict(X)\n",
    "plt.plot(y_pred)\n",
    "plt.plot(y)\n",
    "plt.legend(['y_pred', 'y'])"
   ]
  },
  {
   "cell_type": "code",
   "execution_count": null,
   "id": "9855e4d9",
   "metadata": {},
   "outputs": [],
   "source": []
  }
 ],
 "metadata": {
  "kernelspec": {
   "display_name": "Python 3",
   "language": "python",
   "name": "python3"
  },
  "language_info": {
   "codemirror_mode": {
    "name": "ipython",
    "version": 3
   },
   "file_extension": ".py",
   "mimetype": "text/x-python",
   "name": "python",
   "nbconvert_exporter": "python",
   "pygments_lexer": "ipython3",
   "version": "3.8.8"
  }
 },
 "nbformat": 4,
 "nbformat_minor": 5
}
