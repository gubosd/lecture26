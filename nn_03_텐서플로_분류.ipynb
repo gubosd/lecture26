{
 "cells": [
  {
   "cell_type": "markdown",
   "id": "6e222d53",
   "metadata": {},
   "source": [
    "## 신경망과 딥러닝\n",
    "# 케라스와 분류"
   ]
  },
  {
   "cell_type": "code",
   "execution_count": 1,
   "id": "f8cb2f4b",
   "metadata": {},
   "outputs": [],
   "source": [
    "import numpy as np\n",
    "import pandas as pd\n",
    "import matplotlib.pyplot as plt"
   ]
  },
  {
   "cell_type": "markdown",
   "id": "1c3429bb",
   "metadata": {},
   "source": [
    "### 유방암 데이터 분류"
   ]
  },
  {
   "cell_type": "code",
   "execution_count": 2,
   "id": "f4833183",
   "metadata": {},
   "outputs": [],
   "source": [
    "from sklearn.datasets import load_breast_cancer\n",
    "cancer = load_breast_cancer()"
   ]
  },
  {
   "cell_type": "code",
   "execution_count": 3,
   "id": "23a8fdc0",
   "metadata": {},
   "outputs": [
    {
     "data": {
      "text/plain": [
       "((569, 30), (569,))"
      ]
     },
     "execution_count": 3,
     "metadata": {},
     "output_type": "execute_result"
    }
   ],
   "source": [
    "X = cancer.data\n",
    "y = cancer.target\n",
    "X.shape, y.shape"
   ]
  },
  {
   "cell_type": "code",
   "execution_count": 4,
   "id": "de25beac",
   "metadata": {},
   "outputs": [
    {
     "data": {
      "text/plain": [
       "array(['malignant', 'benign'], dtype='<U9')"
      ]
     },
     "execution_count": 4,
     "metadata": {},
     "output_type": "execute_result"
    }
   ],
   "source": [
    "cancer.target_names"
   ]
  },
  {
   "cell_type": "code",
   "execution_count": 5,
   "id": "5a9ab99a",
   "metadata": {
    "collapsed": true
   },
   "outputs": [
    {
     "data": {
      "text/plain": [
       "array([0, 0, 0, 0, 0, 0, 0, 0, 0, 0, 0, 0, 0, 0, 0, 0, 0, 0, 0, 1, 1, 1,\n",
       "       0, 0, 0, 0, 0, 0, 0, 0, 0, 0, 0, 0, 0, 0, 0, 1, 0, 0, 0, 0, 0, 0,\n",
       "       0, 0, 1, 0, 1, 1, 1, 1, 1, 0, 0, 1, 0, 0, 1, 1, 1, 1, 0, 1, 0, 0,\n",
       "       1, 1, 1, 1, 0, 1, 0, 0, 1, 0, 1, 0, 0, 1, 1, 1, 0, 0, 1, 0, 0, 0,\n",
       "       1, 1, 1, 0, 1, 1, 0, 0, 1, 1, 1, 0, 0, 1, 1, 1, 1, 0, 1, 1, 0, 1,\n",
       "       1, 1, 1, 1, 1, 1, 1, 0, 0, 0, 1, 0, 0, 1, 1, 1, 0, 0, 1, 0, 1, 0,\n",
       "       0, 1, 0, 0, 1, 1, 0, 1, 1, 0, 1, 1, 1, 1, 0, 1, 1, 1, 1, 1, 1, 1,\n",
       "       1, 1, 0, 1, 1, 1, 1, 0, 0, 1, 0, 1, 1, 0, 0, 1, 1, 0, 0, 1, 1, 1,\n",
       "       1, 0, 1, 1, 0, 0, 0, 1, 0, 1, 0, 1, 1, 1, 0, 1, 1, 0, 0, 1, 0, 0,\n",
       "       0, 0, 1, 0, 0, 0, 1, 0, 1, 0, 1, 1, 0, 1, 0, 0, 0, 0, 1, 1, 0, 0,\n",
       "       1, 1, 1, 0, 1, 1, 1, 1, 1, 0, 0, 1, 1, 0, 1, 1, 0, 0, 1, 0, 1, 1,\n",
       "       1, 1, 0, 1, 1, 1, 1, 1, 0, 1, 0, 0, 0, 0, 0, 0, 0, 0, 0, 0, 0, 0,\n",
       "       0, 0, 1, 1, 1, 1, 1, 1, 0, 1, 0, 1, 1, 0, 1, 1, 0, 1, 0, 0, 1, 1,\n",
       "       1, 1, 1, 1, 1, 1, 1, 1, 1, 1, 1, 0, 1, 1, 0, 1, 0, 1, 1, 1, 1, 1,\n",
       "       1, 1, 1, 1, 1, 1, 1, 1, 1, 0, 1, 1, 1, 0, 1, 0, 1, 1, 1, 1, 0, 0,\n",
       "       0, 1, 1, 1, 1, 0, 1, 0, 1, 0, 1, 1, 1, 0, 1, 1, 1, 1, 1, 1, 1, 0,\n",
       "       0, 0, 1, 1, 1, 1, 1, 1, 1, 1, 1, 1, 1, 0, 0, 1, 0, 0, 0, 1, 0, 0,\n",
       "       1, 1, 1, 1, 1, 0, 1, 1, 1, 1, 1, 0, 1, 1, 1, 0, 1, 1, 0, 0, 1, 1,\n",
       "       1, 1, 1, 1, 0, 1, 1, 1, 1, 1, 1, 1, 0, 1, 1, 1, 1, 1, 0, 1, 1, 0,\n",
       "       1, 1, 1, 1, 1, 1, 1, 1, 1, 1, 1, 1, 0, 1, 0, 0, 1, 0, 1, 1, 1, 1,\n",
       "       1, 0, 1, 1, 0, 1, 0, 1, 1, 0, 1, 0, 1, 1, 1, 1, 1, 1, 1, 1, 0, 0,\n",
       "       1, 1, 1, 1, 1, 1, 0, 1, 1, 1, 1, 1, 1, 1, 1, 1, 1, 0, 1, 1, 1, 1,\n",
       "       1, 1, 1, 0, 1, 0, 1, 1, 0, 1, 1, 1, 1, 1, 0, 0, 1, 0, 1, 0, 1, 1,\n",
       "       1, 1, 1, 0, 1, 1, 0, 1, 0, 1, 0, 0, 1, 1, 1, 0, 1, 1, 1, 1, 1, 1,\n",
       "       1, 1, 1, 1, 1, 0, 1, 0, 0, 1, 1, 1, 1, 1, 1, 1, 1, 1, 1, 1, 1, 1,\n",
       "       1, 1, 1, 1, 1, 1, 1, 1, 1, 1, 1, 1, 0, 0, 0, 0, 0, 0, 1])"
      ]
     },
     "execution_count": 5,
     "metadata": {},
     "output_type": "execute_result"
    }
   ],
   "source": [
    "y"
   ]
  },
  {
   "cell_type": "code",
   "execution_count": 6,
   "id": "84f53e39",
   "metadata": {},
   "outputs": [
    {
     "data": {
      "image/png": "[encoded data removed]",
      "text/plain": [
       "<Figure size 432x288 with 1 Axes>"
      ]
     },
     "metadata": {
      "needs_background": "light"
     },
     "output_type": "display_data"
    }
   ],
   "source": [
    "plt.boxplot(X); pass"
   ]
  },
  {
   "cell_type": "code",
   "execution_count": 7,
   "id": "720bc503",
   "metadata": {},
   "outputs": [
    {
     "data": {
      "text/plain": [
       "(569, 30)"
      ]
     },
     "execution_count": 7,
     "metadata": {},
     "output_type": "execute_result"
    }
   ],
   "source": [
    "# 신경망에서는 반드시 정규화를 고려하여야 한다\n",
    "X_norm = (X-X.mean(axis=0))/X.std(axis=0)\n",
    "X_norm.shape"
   ]
  },
  {
   "cell_type": "code",
   "execution_count": null,
   "id": "90b92f18",
   "metadata": {},
   "outputs": [],
   "source": []
  },
  {
   "cell_type": "code",
   "execution_count": 9,
   "id": "1dd4207c",
   "metadata": {},
   "outputs": [],
   "source": [
    "import tensorflow as tf\n",
    "from tensorflow import keras"
   ]
  },
  {
   "cell_type": "code",
   "execution_count": 42,
   "id": "4b0fab82",
   "metadata": {},
   "outputs": [
    {
     "name": "stdout",
     "output_type": "stream",
     "text": [
      "Model: \"sequential_2\"\n",
      "_________________________________________________________________\n",
      "Layer (type)                 Output Shape              Param #   \n",
      "=================================================================\n",
      "dense_5 (Dense)              (None, 10)                310       \n",
      "_________________________________________________________________\n",
      "dense_6 (Dense)              (None, 1)                 11        \n",
      "=================================================================\n",
      "Total params: 321\n",
      "Trainable params: 321\n",
      "Non-trainable params: 0\n",
      "_________________________________________________________________\n"
     ]
    }
   ],
   "source": [
    "model = keras.models.Sequential()\n",
    "model.add(keras.layers.Dense(10, input_shape=(30,), activation='relu'))\n",
    "model.add(keras.layers.Dense(1, activation='sigmoid'))\n",
    "model.summary()"
   ]
  },
  {
   "cell_type": "code",
   "execution_count": 43,
   "id": "d1bc5eef",
   "metadata": {},
   "outputs": [],
   "source": [
    "model.compile(loss='binary_crossentropy', optimizer='sgd', metrics=['acc'])"
   ]
  },
  {
   "cell_type": "code",
   "execution_count": 44,
   "id": "6694bf49",
   "metadata": {
    "scrolled": true
   },
   "outputs": [
    {
     "name": "stdout",
     "output_type": "stream",
     "text": [
      "Epoch 1/100\n",
      "14/14 [==============================] - 1s 19ms/step - loss: 0.6999 - acc: 0.5211 - val_loss: 0.8638 - val_acc: 0.3706\n",
      "Epoch 2/100\n",
      "14/14 [==============================] - 0s 10ms/step - loss: 0.6335 - acc: 0.6033 - val_loss: 0.7886 - val_acc: 0.4615\n",
      "Epoch 3/100\n",
      "14/14 [==============================] - 0s 10ms/step - loss: 0.5817 - acc: 0.6620 - val_loss: 0.7273 - val_acc: 0.5455\n",
      "Epoch 4/100\n",
      "14/14 [==============================] - 0s 10ms/step - loss: 0.5405 - acc: 0.6995 - val_loss: 0.6757 - val_acc: 0.6084\n",
      "Epoch 5/100\n",
      "14/14 [==============================] - 0s 9ms/step - loss: 0.5059 - acc: 0.7465 - val_loss: 0.6308 - val_acc: 0.6643\n",
      "Epoch 6/100\n",
      "14/14 [==============================] - 0s 9ms/step - loss: 0.4762 - acc: 0.7887 - val_loss: 0.5915 - val_acc: 0.7133\n",
      "Epoch 7/100\n",
      "14/14 [==============================] - 0s 11ms/step - loss: 0.4498 - acc: 0.8239 - val_loss: 0.5574 - val_acc: 0.7762\n",
      "Epoch 8/100\n",
      "14/14 [==============================] - 0s 10ms/step - loss: 0.4264 - acc: 0.8521 - val_loss: 0.5245 - val_acc: 0.7902\n",
      "Epoch 9/100\n",
      "14/14 [==============================] - 0s 9ms/step - loss: 0.4039 - acc: 0.8779 - val_loss: 0.4953 - val_acc: 0.8042\n",
      "Epoch 10/100\n",
      "14/14 [==============================] - 0s 10ms/step - loss: 0.3831 - acc: 0.8897 - val_loss: 0.4687 - val_acc: 0.8322\n",
      "Epoch 11/100\n",
      "14/14 [==============================] - 0s 9ms/step - loss: 0.3638 - acc: 0.8967 - val_loss: 0.4437 - val_acc: 0.8322\n",
      "Epoch 12/100\n",
      "14/14 [==============================] - 0s 8ms/step - loss: 0.3457 - acc: 0.9178 - val_loss: 0.4210 - val_acc: 0.8462\n",
      "Epoch 13/100\n",
      "14/14 [==============================] - 0s 9ms/step - loss: 0.3289 - acc: 0.9202 - val_loss: 0.3991 - val_acc: 0.8671\n",
      "Epoch 14/100\n",
      "14/14 [==============================] - 0s 10ms/step - loss: 0.3129 - acc: 0.9202 - val_loss: 0.3797 - val_acc: 0.8741\n",
      "Epoch 15/100\n",
      "14/14 [==============================] - 0s 8ms/step - loss: 0.2985 - acc: 0.9272 - val_loss: 0.3609 - val_acc: 0.8811\n",
      "Epoch 16/100\n",
      "14/14 [==============================] - 0s 10ms/step - loss: 0.2849 - acc: 0.9366 - val_loss: 0.3444 - val_acc: 0.8811\n",
      "Epoch 17/100\n",
      "14/14 [==============================] - 0s 9ms/step - loss: 0.2726 - acc: 0.9390 - val_loss: 0.3289 - val_acc: 0.8951\n",
      "Epoch 18/100\n",
      "14/14 [==============================] - 0s 9ms/step - loss: 0.2613 - acc: 0.9390 - val_loss: 0.3148 - val_acc: 0.8951\n",
      "Epoch 19/100\n",
      "14/14 [==============================] - 0s 8ms/step - loss: 0.2509 - acc: 0.9390 - val_loss: 0.3020 - val_acc: 0.9021\n",
      "Epoch 20/100\n",
      "14/14 [==============================] - 0s 8ms/step - loss: 0.2413 - acc: 0.9413 - val_loss: 0.2904 - val_acc: 0.9021\n",
      "Epoch 21/100\n",
      "14/14 [==============================] - 0s 9ms/step - loss: 0.2326 - acc: 0.9413 - val_loss: 0.2792 - val_acc: 0.9021\n",
      "Epoch 22/100\n",
      "14/14 [==============================] - 0s 9ms/step - loss: 0.2243 - acc: 0.9437 - val_loss: 0.2690 - val_acc: 0.9091\n",
      "Epoch 23/100\n",
      "14/14 [==============================] - 0s 9ms/step - loss: 0.2168 - acc: 0.9460 - val_loss: 0.2595 - val_acc: 0.9091\n",
      "Epoch 24/100\n",
      "14/14 [==============================] - 0s 8ms/step - loss: 0.2097 - acc: 0.9484 - val_loss: 0.2509 - val_acc: 0.9091\n",
      "Epoch 25/100\n",
      "14/14 [==============================] - 0s 8ms/step - loss: 0.2033 - acc: 0.9507 - val_loss: 0.2428 - val_acc: 0.9091\n",
      "Epoch 26/100\n",
      "14/14 [==============================] - 0s 9ms/step - loss: 0.1974 - acc: 0.9507 - val_loss: 0.2356 - val_acc: 0.9091\n",
      "Epoch 27/100\n",
      "14/14 [==============================] - 0s 9ms/step - loss: 0.1920 - acc: 0.9507 - val_loss: 0.2292 - val_acc: 0.9091\n",
      "Epoch 28/100\n",
      "14/14 [==============================] - 0s 9ms/step - loss: 0.1870 - acc: 0.9507 - val_loss: 0.2231 - val_acc: 0.9161\n",
      "Epoch 29/100\n",
      "14/14 [==============================] - 0s 8ms/step - loss: 0.1824 - acc: 0.9507 - val_loss: 0.2176 - val_acc: 0.9161\n",
      "Epoch 30/100\n",
      "14/14 [==============================] - 0s 9ms/step - loss: 0.1780 - acc: 0.9507 - val_loss: 0.2125 - val_acc: 0.9161\n",
      "Epoch 31/100\n",
      "14/14 [==============================] - 0s 10ms/step - loss: 0.1740 - acc: 0.9531 - val_loss: 0.2075 - val_acc: 0.9161\n",
      "Epoch 32/100\n",
      "14/14 [==============================] - 0s 10ms/step - loss: 0.1701 - acc: 0.9554 - val_loss: 0.2032 - val_acc: 0.9231\n",
      "Epoch 33/100\n",
      "14/14 [==============================] - 0s 10ms/step - loss: 0.1665 - acc: 0.9554 - val_loss: 0.1988 - val_acc: 0.9231\n",
      "Epoch 34/100\n",
      "14/14 [==============================] - 0s 10ms/step - loss: 0.1631 - acc: 0.9554 - val_loss: 0.1951 - val_acc: 0.9231\n",
      "Epoch 35/100\n",
      "14/14 [==============================] - 0s 9ms/step - loss: 0.1599 - acc: 0.9554 - val_loss: 0.1915 - val_acc: 0.9231\n",
      "Epoch 36/100\n",
      "14/14 [==============================] - 0s 10ms/step - loss: 0.1568 - acc: 0.9554 - val_loss: 0.1876 - val_acc: 0.9301\n",
      "Epoch 37/100\n",
      "14/14 [==============================] - 0s 9ms/step - loss: 0.1540 - acc: 0.9577 - val_loss: 0.1844 - val_acc: 0.9301\n",
      "Epoch 38/100\n",
      "14/14 [==============================] - 0s 11ms/step - loss: 0.1513 - acc: 0.9577 - val_loss: 0.1813 - val_acc: 0.9301\n",
      "Epoch 39/100\n",
      "14/14 [==============================] - 0s 9ms/step - loss: 0.1487 - acc: 0.9577 - val_loss: 0.1788 - val_acc: 0.9301\n",
      "Epoch 40/100\n",
      "14/14 [==============================] - 0s 9ms/step - loss: 0.1464 - acc: 0.9577 - val_loss: 0.1761 - val_acc: 0.9371\n",
      "Epoch 41/100\n",
      "14/14 [==============================] - 0s 9ms/step - loss: 0.1440 - acc: 0.9577 - val_loss: 0.1735 - val_acc: 0.9371\n",
      "Epoch 42/100\n",
      "14/14 [==============================] - 0s 9ms/step - loss: 0.1417 - acc: 0.9577 - val_loss: 0.1710 - val_acc: 0.9371\n",
      "Epoch 43/100\n",
      "14/14 [==============================] - 0s 9ms/step - loss: 0.1396 - acc: 0.9577 - val_loss: 0.1683 - val_acc: 0.9441\n",
      "Epoch 44/100\n",
      "14/14 [==============================] - 0s 8ms/step - loss: 0.1375 - acc: 0.9554 - val_loss: 0.1660 - val_acc: 0.9441\n",
      "Epoch 45/100\n",
      "14/14 [==============================] - 0s 9ms/step - loss: 0.1356 - acc: 0.9554 - val_loss: 0.1637 - val_acc: 0.9441\n",
      "Epoch 46/100\n",
      "14/14 [==============================] - 0s 9ms/step - loss: 0.1337 - acc: 0.9577 - val_loss: 0.1620 - val_acc: 0.9441\n",
      "Epoch 47/100\n",
      "14/14 [==============================] - 0s 9ms/step - loss: 0.1317 - acc: 0.9577 - val_loss: 0.1599 - val_acc: 0.9441\n",
      "Epoch 48/100\n",
      "14/14 [==============================] - 0s 10ms/step - loss: 0.1299 - acc: 0.9577 - val_loss: 0.1585 - val_acc: 0.9441\n",
      "Epoch 49/100\n",
      "14/14 [==============================] - 0s 10ms/step - loss: 0.1283 - acc: 0.9601 - val_loss: 0.1568 - val_acc: 0.9441\n",
      "Epoch 50/100\n",
      "14/14 [==============================] - 0s 9ms/step - loss: 0.1266 - acc: 0.9624 - val_loss: 0.1549 - val_acc: 0.9510\n",
      "Epoch 51/100\n",
      "14/14 [==============================] - 0s 9ms/step - loss: 0.1249 - acc: 0.9624 - val_loss: 0.1531 - val_acc: 0.9441\n",
      "Epoch 52/100\n",
      "14/14 [==============================] - 0s 9ms/step - loss: 0.1233 - acc: 0.9624 - val_loss: 0.1513 - val_acc: 0.9441\n",
      "Epoch 53/100\n",
      "14/14 [==============================] - 0s 9ms/step - loss: 0.1218 - acc: 0.9648 - val_loss: 0.1497 - val_acc: 0.9441\n",
      "Epoch 54/100\n",
      "14/14 [==============================] - 0s 10ms/step - loss: 0.1204 - acc: 0.9648 - val_loss: 0.1482 - val_acc: 0.9441\n",
      "Epoch 55/100\n",
      "14/14 [==============================] - 0s 9ms/step - loss: 0.1190 - acc: 0.9648 - val_loss: 0.1466 - val_acc: 0.9441\n",
      "Epoch 56/100\n",
      "14/14 [==============================] - 0s 9ms/step - loss: 0.1177 - acc: 0.9648 - val_loss: 0.1450 - val_acc: 0.9441\n",
      "Epoch 57/100\n",
      "14/14 [==============================] - 0s 9ms/step - loss: 0.1164 - acc: 0.9671 - val_loss: 0.1437 - val_acc: 0.9441\n",
      "Epoch 58/100\n",
      "14/14 [==============================] - 0s 10ms/step - loss: 0.1152 - acc: 0.9695 - val_loss: 0.1423 - val_acc: 0.9510\n",
      "Epoch 59/100\n",
      "14/14 [==============================] - 0s 9ms/step - loss: 0.1140 - acc: 0.9695 - val_loss: 0.1409 - val_acc: 0.9510\n",
      "Epoch 60/100\n",
      "14/14 [==============================] - 0s 9ms/step - loss: 0.1128 - acc: 0.9695 - val_loss: 0.1397 - val_acc: 0.9510\n",
      "Epoch 61/100\n",
      "14/14 [==============================] - 0s 10ms/step - loss: 0.1116 - acc: 0.9695 - val_loss: 0.1384 - val_acc: 0.9510\n",
      "Epoch 62/100\n",
      "14/14 [==============================] - 0s 9ms/step - loss: 0.1105 - acc: 0.9695 - val_loss: 0.1372 - val_acc: 0.9510\n"
     ]
    },
    {
     "name": "stdout",
     "output_type": "stream",
     "text": [
      "Epoch 63/100\n",
      "14/14 [==============================] - 0s 8ms/step - loss: 0.1094 - acc: 0.9695 - val_loss: 0.1360 - val_acc: 0.9510\n",
      "Epoch 64/100\n",
      "14/14 [==============================] - 0s 9ms/step - loss: 0.1084 - acc: 0.9695 - val_loss: 0.1349 - val_acc: 0.9510\n",
      "Epoch 65/100\n",
      "14/14 [==============================] - 0s 10ms/step - loss: 0.1073 - acc: 0.9695 - val_loss: 0.1339 - val_acc: 0.9510\n",
      "Epoch 66/100\n",
      "14/14 [==============================] - 0s 9ms/step - loss: 0.1063 - acc: 0.9695 - val_loss: 0.1329 - val_acc: 0.9510\n",
      "Epoch 67/100\n",
      "14/14 [==============================] - 0s 9ms/step - loss: 0.1053 - acc: 0.9695 - val_loss: 0.1320 - val_acc: 0.9510\n",
      "Epoch 68/100\n",
      "14/14 [==============================] - 0s 10ms/step - loss: 0.1044 - acc: 0.9695 - val_loss: 0.1314 - val_acc: 0.9510\n",
      "Epoch 69/100\n",
      "14/14 [==============================] - 0s 9ms/step - loss: 0.1033 - acc: 0.9695 - val_loss: 0.1304 - val_acc: 0.9510\n",
      "Epoch 70/100\n",
      "14/14 [==============================] - 0s 9ms/step - loss: 0.1025 - acc: 0.9695 - val_loss: 0.1298 - val_acc: 0.9580\n",
      "Epoch 71/100\n",
      "14/14 [==============================] - 0s 8ms/step - loss: 0.1016 - acc: 0.9718 - val_loss: 0.1290 - val_acc: 0.9580\n",
      "Epoch 72/100\n",
      "14/14 [==============================] - 0s 9ms/step - loss: 0.1007 - acc: 0.9718 - val_loss: 0.1283 - val_acc: 0.9580\n",
      "Epoch 73/100\n",
      "14/14 [==============================] - 0s 9ms/step - loss: 0.0998 - acc: 0.9718 - val_loss: 0.1275 - val_acc: 0.9580\n",
      "Epoch 74/100\n",
      "14/14 [==============================] - 0s 9ms/step - loss: 0.0990 - acc: 0.9718 - val_loss: 0.1269 - val_acc: 0.9580\n",
      "Epoch 75/100\n",
      "14/14 [==============================] - 0s 9ms/step - loss: 0.0982 - acc: 0.9742 - val_loss: 0.1262 - val_acc: 0.9580\n",
      "Epoch 76/100\n",
      "14/14 [==============================] - 0s 9ms/step - loss: 0.0974 - acc: 0.9742 - val_loss: 0.1257 - val_acc: 0.9580\n",
      "Epoch 77/100\n",
      "14/14 [==============================] - 0s 9ms/step - loss: 0.0967 - acc: 0.9718 - val_loss: 0.1250 - val_acc: 0.9650\n",
      "Epoch 78/100\n",
      "14/14 [==============================] - 0s 9ms/step - loss: 0.0959 - acc: 0.9718 - val_loss: 0.1245 - val_acc: 0.9650\n",
      "Epoch 79/100\n",
      "14/14 [==============================] - 0s 9ms/step - loss: 0.0951 - acc: 0.9718 - val_loss: 0.1240 - val_acc: 0.9650\n",
      "Epoch 80/100\n",
      "14/14 [==============================] - 0s 9ms/step - loss: 0.0944 - acc: 0.9742 - val_loss: 0.1233 - val_acc: 0.9650\n",
      "Epoch 81/100\n",
      "14/14 [==============================] - 0s 9ms/step - loss: 0.0937 - acc: 0.9742 - val_loss: 0.1228 - val_acc: 0.9650\n",
      "Epoch 82/100\n",
      "14/14 [==============================] - 0s 10ms/step - loss: 0.0930 - acc: 0.9742 - val_loss: 0.1224 - val_acc: 0.9650\n",
      "Epoch 83/100\n",
      "14/14 [==============================] - 0s 9ms/step - loss: 0.0923 - acc: 0.9765 - val_loss: 0.1219 - val_acc: 0.9650\n",
      "Epoch 84/100\n",
      "14/14 [==============================] - 0s 9ms/step - loss: 0.0916 - acc: 0.9742 - val_loss: 0.1220 - val_acc: 0.9650\n",
      "Epoch 85/100\n",
      "14/14 [==============================] - 0s 9ms/step - loss: 0.0910 - acc: 0.9789 - val_loss: 0.1215 - val_acc: 0.9650\n",
      "Epoch 86/100\n",
      "14/14 [==============================] - 0s 9ms/step - loss: 0.0904 - acc: 0.9789 - val_loss: 0.1211 - val_acc: 0.9650\n",
      "Epoch 87/100\n",
      "14/14 [==============================] - 0s 9ms/step - loss: 0.0897 - acc: 0.9765 - val_loss: 0.1210 - val_acc: 0.9650\n",
      "Epoch 88/100\n",
      "14/14 [==============================] - 0s 9ms/step - loss: 0.0891 - acc: 0.9789 - val_loss: 0.1208 - val_acc: 0.9650\n",
      "Epoch 89/100\n",
      "14/14 [==============================] - 0s 8ms/step - loss: 0.0885 - acc: 0.9789 - val_loss: 0.1203 - val_acc: 0.9650\n",
      "Epoch 90/100\n",
      "14/14 [==============================] - 0s 9ms/step - loss: 0.0880 - acc: 0.9789 - val_loss: 0.1199 - val_acc: 0.9650\n",
      "Epoch 91/100\n",
      "14/14 [==============================] - 0s 10ms/step - loss: 0.0874 - acc: 0.9789 - val_loss: 0.1194 - val_acc: 0.9650\n",
      "Epoch 92/100\n",
      "14/14 [==============================] - 0s 9ms/step - loss: 0.0869 - acc: 0.9789 - val_loss: 0.1192 - val_acc: 0.9650\n",
      "Epoch 93/100\n",
      "14/14 [==============================] - 0s 9ms/step - loss: 0.0863 - acc: 0.9789 - val_loss: 0.1188 - val_acc: 0.9650\n",
      "Epoch 94/100\n",
      "14/14 [==============================] - 0s 9ms/step - loss: 0.0858 - acc: 0.9789 - val_loss: 0.1184 - val_acc: 0.9650\n",
      "Epoch 95/100\n",
      "14/14 [==============================] - 0s 9ms/step - loss: 0.0853 - acc: 0.9789 - val_loss: 0.1179 - val_acc: 0.9650\n",
      "Epoch 96/100\n",
      "14/14 [==============================] - 0s 9ms/step - loss: 0.0848 - acc: 0.9789 - val_loss: 0.1175 - val_acc: 0.9650\n",
      "Epoch 97/100\n",
      "14/14 [==============================] - 0s 9ms/step - loss: 0.0844 - acc: 0.9789 - val_loss: 0.1170 - val_acc: 0.9650\n",
      "Epoch 98/100\n",
      "14/14 [==============================] - 0s 9ms/step - loss: 0.0839 - acc: 0.9789 - val_loss: 0.1167 - val_acc: 0.9650\n",
      "Epoch 99/100\n",
      "14/14 [==============================] - 0s 9ms/step - loss: 0.0834 - acc: 0.9789 - val_loss: 0.1164 - val_acc: 0.9650\n",
      "Epoch 100/100\n",
      "14/14 [==============================] - 0s 9ms/step - loss: 0.0830 - acc: 0.9789 - val_loss: 0.1160 - val_acc: 0.9650\n"
     ]
    },
    {
     "data": {
      "text/plain": [
       "<tensorflow.python.keras.callbacks.History at 0x1ef5bbc12e0>"
      ]
     },
     "execution_count": 44,
     "metadata": {},
     "output_type": "execute_result"
    }
   ],
   "source": [
    "model.fit(X_norm, y, epochs=100, validation_split=0.25)"
   ]
  },
  {
   "cell_type": "code",
   "execution_count": 45,
   "id": "c7379624",
   "metadata": {},
   "outputs": [],
   "source": [
    "h = model.history.history"
   ]
  },
  {
   "cell_type": "code",
   "execution_count": 46,
   "id": "11af1d07",
   "metadata": {},
   "outputs": [
    {
     "data": {
      "text/plain": [
       "<matplotlib.legend.Legend at 0x1ef5b79aca0>"
      ]
     },
     "execution_count": 46,
     "metadata": {},
     "output_type": "execute_result"
    },
    {
     "data": {
      "image/png": "[encoded data removed]",
      "text/plain": [
       "<Figure size 432x288 with 1 Axes>"
      ]
     },
     "metadata": {
      "needs_background": "light"
     },
     "output_type": "display_data"
    }
   ],
   "source": [
    "plt.plot(h['loss'])\n",
    "plt.plot(h['val_loss'])\n",
    "plt.legend(['loss', 'val_loss'])"
   ]
  },
  {
   "cell_type": "code",
   "execution_count": 47,
   "id": "4d465beb",
   "metadata": {},
   "outputs": [
    {
     "data": {
      "text/plain": [
       "<matplotlib.legend.Legend at 0x1ef5bc7b700>"
      ]
     },
     "execution_count": 47,
     "metadata": {},
     "output_type": "execute_result"
    },
    {
     "data": {
      "image/png": "[encoded data removed]",
      "text/plain": [
       "<Figure size 432x288 with 1 Axes>"
      ]
     },
     "metadata": {
      "needs_background": "light"
     },
     "output_type": "display_data"
    }
   ],
   "source": [
    "plt.plot(h['acc'])\n",
    "plt.plot(h['val_acc'])\n",
    "plt.legend(['acc', 'val_acc'])"
   ]
  },
  {
   "cell_type": "code",
   "execution_count": 48,
   "id": "cb3d0f97",
   "metadata": {},
   "outputs": [],
   "source": [
    "y_pred = model.predict(X_norm).ravel()"
   ]
  },
  {
   "cell_type": "code",
   "execution_count": 49,
   "id": "bf043c35",
   "metadata": {},
   "outputs": [
    {
     "data": {
      "text/plain": [
       "<matplotlib.legend.Legend at 0x1ef5dd56880>"
      ]
     },
     "execution_count": 49,
     "metadata": {},
     "output_type": "execute_result"
    },
    {
     "data": {
      "image/png": "[encoded data removed]",
      "text/plain": [
       "<Figure size 432x288 with 1 Axes>"
      ]
     },
     "metadata": {
      "needs_background": "light"
     },
     "output_type": "display_data"
    }
   ],
   "source": [
    "plt.scatter(y_pred[y==0], y[y==0] + np.random.randn(len(y[y==0]))*0.05, alpha=0.2)\n",
    "plt.scatter(y_pred[y==1], y[y==1] + np.random.randn(len(y[y==1]))*0.05, alpha=0.2)\n",
    "plt.vlines([0.5], -0.2, 1.2, linestyles=':')\n",
    "plt.legend(cancer.target_names)"
   ]
  },
  {
   "cell_type": "code",
   "execution_count": null,
   "id": "e0dc3f74",
   "metadata": {},
   "outputs": [],
   "source": []
  },
  {
   "cell_type": "code",
   "execution_count": 50,
   "id": "29a6ddf6",
   "metadata": {},
   "outputs": [
    {
     "name": "stdout",
     "output_type": "stream",
     "text": [
      "Model: \"sequential_3\"\n",
      "_________________________________________________________________\n",
      "Layer (type)                 Output Shape              Param #   \n",
      "=================================================================\n",
      "dense_7 (Dense)              (None, 10)                310       \n",
      "_________________________________________________________________\n",
      "dense_8 (Dense)              (None, 5)                 55        \n",
      "_________________________________________________________________\n",
      "dense_9 (Dense)              (None, 1)                 6         \n",
      "=================================================================\n",
      "Total params: 371\n",
      "Trainable params: 371\n",
      "Non-trainable params: 0\n",
      "_________________________________________________________________\n"
     ]
    }
   ],
   "source": [
    "### 2개의 중간층\n",
    "model = keras.models.Sequential()\n",
    "model.add(keras.layers.Dense(10, input_shape=(30,), activation='relu'))\n",
    "model.add(keras.layers.Dense(5, activation='relu'))\n",
    "model.add(keras.layers.Dense(1, activation='sigmoid'))\n",
    "model.summary()"
   ]
  },
  {
   "cell_type": "code",
   "execution_count": 51,
   "id": "1182c994",
   "metadata": {},
   "outputs": [],
   "source": [
    "model.compile(loss='binary_crossentropy', optimizer='sgd', metrics=['acc'])"
   ]
  },
  {
   "cell_type": "code",
   "execution_count": 52,
   "id": "6f30e17b",
   "metadata": {
    "scrolled": true
   },
   "outputs": [
    {
     "name": "stdout",
     "output_type": "stream",
     "text": [
      "Epoch 1/100\n",
      "14/14 [==============================] - 1s 19ms/step - loss: 0.5626 - acc: 0.8685 - val_loss: 0.5611 - val_acc: 0.8741\n",
      "Epoch 2/100\n",
      "14/14 [==============================] - 0s 11ms/step - loss: 0.5138 - acc: 0.8850 - val_loss: 0.5146 - val_acc: 0.8951\n",
      "Epoch 3/100\n",
      "14/14 [==============================] - 0s 10ms/step - loss: 0.4719 - acc: 0.8991 - val_loss: 0.4716 - val_acc: 0.9371\n",
      "Epoch 4/100\n",
      "14/14 [==============================] - 0s 10ms/step - loss: 0.4331 - acc: 0.9131 - val_loss: 0.4344 - val_acc: 0.9510\n",
      "Epoch 5/100\n",
      "14/14 [==============================] - 0s 10ms/step - loss: 0.3989 - acc: 0.9178 - val_loss: 0.4015 - val_acc: 0.9510\n",
      "Epoch 6/100\n",
      "14/14 [==============================] - 0s 10ms/step - loss: 0.3685 - acc: 0.9178 - val_loss: 0.3707 - val_acc: 0.9580\n",
      "Epoch 7/100\n",
      "14/14 [==============================] - 0s 9ms/step - loss: 0.3412 - acc: 0.9249 - val_loss: 0.3436 - val_acc: 0.9580\n",
      "Epoch 8/100\n",
      "14/14 [==============================] - 0s 11ms/step - loss: 0.3171 - acc: 0.9272 - val_loss: 0.3200 - val_acc: 0.9580\n",
      "Epoch 9/100\n",
      "14/14 [==============================] - 0s 9ms/step - loss: 0.2959 - acc: 0.9319 - val_loss: 0.2982 - val_acc: 0.9580\n",
      "Epoch 10/100\n",
      "14/14 [==============================] - 0s 12ms/step - loss: 0.2773 - acc: 0.9343 - val_loss: 0.2792 - val_acc: 0.9580\n",
      "Epoch 11/100\n",
      "14/14 [==============================] - 0s 10ms/step - loss: 0.2606 - acc: 0.9366 - val_loss: 0.2622 - val_acc: 0.9580\n",
      "Epoch 12/100\n",
      "14/14 [==============================] - 0s 8ms/step - loss: 0.2459 - acc: 0.9366 - val_loss: 0.2474 - val_acc: 0.9580\n",
      "Epoch 13/100\n",
      "14/14 [==============================] - 0s 9ms/step - loss: 0.2330 - acc: 0.9390 - val_loss: 0.2339 - val_acc: 0.9650\n",
      "Epoch 14/100\n",
      "14/14 [==============================] - 0s 9ms/step - loss: 0.2215 - acc: 0.9413 - val_loss: 0.2219 - val_acc: 0.9650\n",
      "Epoch 15/100\n",
      "14/14 [==============================] - 0s 9ms/step - loss: 0.2110 - acc: 0.9437 - val_loss: 0.2117 - val_acc: 0.9720\n",
      "Epoch 16/100\n",
      "14/14 [==============================] - 0s 10ms/step - loss: 0.2020 - acc: 0.9460 - val_loss: 0.2026 - val_acc: 0.9720\n",
      "Epoch 17/100\n",
      "14/14 [==============================] - 0s 10ms/step - loss: 0.1940 - acc: 0.9460 - val_loss: 0.1946 - val_acc: 0.9720\n",
      "Epoch 18/100\n",
      "14/14 [==============================] - 0s 10ms/step - loss: 0.1868 - acc: 0.9460 - val_loss: 0.1876 - val_acc: 0.9720\n",
      "Epoch 19/100\n",
      "14/14 [==============================] - 0s 10ms/step - loss: 0.1803 - acc: 0.9484 - val_loss: 0.1814 - val_acc: 0.9720\n",
      "Epoch 20/100\n",
      "14/14 [==============================] - 0s 9ms/step - loss: 0.1744 - acc: 0.9484 - val_loss: 0.1766 - val_acc: 0.9720\n",
      "Epoch 21/100\n",
      "14/14 [==============================] - 0s 10ms/step - loss: 0.1689 - acc: 0.9507 - val_loss: 0.1716 - val_acc: 0.9790\n",
      "Epoch 22/100\n",
      "14/14 [==============================] - 0s 10ms/step - loss: 0.1637 - acc: 0.9507 - val_loss: 0.1662 - val_acc: 0.9790\n",
      "Epoch 23/100\n",
      "14/14 [==============================] - 0s 10ms/step - loss: 0.1589 - acc: 0.9507 - val_loss: 0.1615 - val_acc: 0.9790\n",
      "Epoch 24/100\n",
      "14/14 [==============================] - 0s 10ms/step - loss: 0.1543 - acc: 0.9507 - val_loss: 0.1573 - val_acc: 0.9790\n",
      "Epoch 25/100\n",
      "14/14 [==============================] - 0s 9ms/step - loss: 0.1502 - acc: 0.9507 - val_loss: 0.1534 - val_acc: 0.9790\n",
      "Epoch 26/100\n",
      "14/14 [==============================] - 0s 9ms/step - loss: 0.1466 - acc: 0.9507 - val_loss: 0.1499 - val_acc: 0.9790\n",
      "Epoch 27/100\n",
      "14/14 [==============================] - 0s 9ms/step - loss: 0.1431 - acc: 0.9531 - val_loss: 0.1466 - val_acc: 0.9790\n",
      "Epoch 28/100\n",
      "14/14 [==============================] - 0s 10ms/step - loss: 0.1399 - acc: 0.9554 - val_loss: 0.1446 - val_acc: 0.9790\n",
      "Epoch 29/100\n",
      "14/14 [==============================] - 0s 9ms/step - loss: 0.1370 - acc: 0.9554 - val_loss: 0.1425 - val_acc: 0.9720\n",
      "Epoch 30/100\n",
      "14/14 [==============================] - 0s 10ms/step - loss: 0.1342 - acc: 0.9554 - val_loss: 0.1401 - val_acc: 0.9720\n",
      "Epoch 31/100\n",
      "14/14 [==============================] - 0s 10ms/step - loss: 0.1316 - acc: 0.9601 - val_loss: 0.1392 - val_acc: 0.9720\n",
      "Epoch 32/100\n",
      "14/14 [==============================] - 0s 9ms/step - loss: 0.1294 - acc: 0.9601 - val_loss: 0.1369 - val_acc: 0.9720\n",
      "Epoch 33/100\n",
      "14/14 [==============================] - 0s 9ms/step - loss: 0.1271 - acc: 0.9601 - val_loss: 0.1344 - val_acc: 0.9720\n",
      "Epoch 34/100\n",
      "14/14 [==============================] - 0s 9ms/step - loss: 0.1249 - acc: 0.9601 - val_loss: 0.1325 - val_acc: 0.9720\n",
      "Epoch 35/100\n",
      "14/14 [==============================] - 0s 9ms/step - loss: 0.1228 - acc: 0.9601 - val_loss: 0.1307 - val_acc: 0.9720\n",
      "Epoch 36/100\n",
      "14/14 [==============================] - 0s 10ms/step - loss: 0.1209 - acc: 0.9601 - val_loss: 0.1294 - val_acc: 0.9580\n",
      "Epoch 37/100\n",
      "14/14 [==============================] - 0s 10ms/step - loss: 0.1189 - acc: 0.9624 - val_loss: 0.1281 - val_acc: 0.9580\n",
      "Epoch 38/100\n",
      "14/14 [==============================] - 0s 8ms/step - loss: 0.1170 - acc: 0.9624 - val_loss: 0.1268 - val_acc: 0.9580\n",
      "Epoch 39/100\n",
      "14/14 [==============================] - 0s 9ms/step - loss: 0.1153 - acc: 0.9624 - val_loss: 0.1256 - val_acc: 0.9580\n",
      "Epoch 40/100\n",
      "14/14 [==============================] - 0s 9ms/step - loss: 0.1136 - acc: 0.9624 - val_loss: 0.1249 - val_acc: 0.9580\n",
      "Epoch 41/100\n",
      "14/14 [==============================] - 0s 9ms/step - loss: 0.1118 - acc: 0.9624 - val_loss: 0.1259 - val_acc: 0.9580\n",
      "Epoch 42/100\n",
      "14/14 [==============================] - 0s 10ms/step - loss: 0.1099 - acc: 0.9624 - val_loss: 0.1247 - val_acc: 0.9580\n",
      "Epoch 43/100\n",
      "14/14 [==============================] - 0s 11ms/step - loss: 0.1084 - acc: 0.9624 - val_loss: 0.1238 - val_acc: 0.9580\n",
      "Epoch 44/100\n",
      "14/14 [==============================] - 0s 9ms/step - loss: 0.1069 - acc: 0.9624 - val_loss: 0.1233 - val_acc: 0.9580\n",
      "Epoch 45/100\n",
      "14/14 [==============================] - 0s 10ms/step - loss: 0.1055 - acc: 0.9624 - val_loss: 0.1232 - val_acc: 0.9580\n",
      "Epoch 46/100\n",
      "14/14 [==============================] - 0s 9ms/step - loss: 0.1040 - acc: 0.9624 - val_loss: 0.1224 - val_acc: 0.9580\n",
      "Epoch 47/100\n",
      "14/14 [==============================] - 0s 9ms/step - loss: 0.1027 - acc: 0.9624 - val_loss: 0.1215 - val_acc: 0.9580\n",
      "Epoch 48/100\n",
      "14/14 [==============================] - 0s 9ms/step - loss: 0.1014 - acc: 0.9624 - val_loss: 0.1214 - val_acc: 0.9580\n",
      "Epoch 49/100\n",
      "14/14 [==============================] - 0s 9ms/step - loss: 0.1002 - acc: 0.9624 - val_loss: 0.1207 - val_acc: 0.9650\n",
      "Epoch 50/100\n",
      "14/14 [==============================] - 0s 9ms/step - loss: 0.0990 - acc: 0.9624 - val_loss: 0.1199 - val_acc: 0.9720\n",
      "Epoch 51/100\n",
      "14/14 [==============================] - 0s 9ms/step - loss: 0.0980 - acc: 0.9648 - val_loss: 0.1193 - val_acc: 0.9720\n",
      "Epoch 52/100\n",
      "14/14 [==============================] - 0s 10ms/step - loss: 0.0968 - acc: 0.9648 - val_loss: 0.1186 - val_acc: 0.9720\n",
      "Epoch 53/100\n",
      "14/14 [==============================] - 0s 9ms/step - loss: 0.0957 - acc: 0.9648 - val_loss: 0.1181 - val_acc: 0.9720\n",
      "Epoch 54/100\n",
      "14/14 [==============================] - 0s 9ms/step - loss: 0.0946 - acc: 0.9648 - val_loss: 0.1173 - val_acc: 0.9720\n",
      "Epoch 55/100\n",
      "14/14 [==============================] - 0s 9ms/step - loss: 0.0937 - acc: 0.9648 - val_loss: 0.1166 - val_acc: 0.9720\n",
      "Epoch 56/100\n",
      "14/14 [==============================] - 0s 9ms/step - loss: 0.0927 - acc: 0.9648 - val_loss: 0.1161 - val_acc: 0.9720\n",
      "Epoch 57/100\n",
      "14/14 [==============================] - 0s 9ms/step - loss: 0.0918 - acc: 0.9648 - val_loss: 0.1158 - val_acc: 0.9720\n",
      "Epoch 58/100\n",
      "14/14 [==============================] - 0s 9ms/step - loss: 0.0909 - acc: 0.9648 - val_loss: 0.1153 - val_acc: 0.9720\n",
      "Epoch 59/100\n",
      "14/14 [==============================] - 0s 9ms/step - loss: 0.0900 - acc: 0.9648 - val_loss: 0.1152 - val_acc: 0.9720\n",
      "Epoch 60/100\n",
      "14/14 [==============================] - 0s 9ms/step - loss: 0.0892 - acc: 0.9671 - val_loss: 0.1146 - val_acc: 0.9720\n",
      "Epoch 61/100\n",
      "14/14 [==============================] - 0s 9ms/step - loss: 0.0885 - acc: 0.9671 - val_loss: 0.1141 - val_acc: 0.9720\n",
      "Epoch 62/100\n",
      "14/14 [==============================] - 0s 9ms/step - loss: 0.0877 - acc: 0.9695 - val_loss: 0.1138 - val_acc: 0.9720\n"
     ]
    },
    {
     "name": "stdout",
     "output_type": "stream",
     "text": [
      "Epoch 63/100\n",
      "14/14 [==============================] - 0s 9ms/step - loss: 0.0870 - acc: 0.9742 - val_loss: 0.1132 - val_acc: 0.9720\n",
      "Epoch 64/100\n",
      "14/14 [==============================] - 0s 9ms/step - loss: 0.0862 - acc: 0.9742 - val_loss: 0.1128 - val_acc: 0.9720\n",
      "Epoch 65/100\n",
      "14/14 [==============================] - 0s 9ms/step - loss: 0.0855 - acc: 0.9742 - val_loss: 0.1114 - val_acc: 0.9720\n",
      "Epoch 66/100\n",
      "14/14 [==============================] - 0s 9ms/step - loss: 0.0848 - acc: 0.9742 - val_loss: 0.1112 - val_acc: 0.9720\n",
      "Epoch 67/100\n",
      "14/14 [==============================] - 0s 9ms/step - loss: 0.0841 - acc: 0.9742 - val_loss: 0.1110 - val_acc: 0.9720\n",
      "Epoch 68/100\n",
      "14/14 [==============================] - 0s 9ms/step - loss: 0.0835 - acc: 0.9742 - val_loss: 0.1107 - val_acc: 0.9720\n",
      "Epoch 69/100\n",
      "14/14 [==============================] - 0s 9ms/step - loss: 0.0828 - acc: 0.9742 - val_loss: 0.1100 - val_acc: 0.9720\n",
      "Epoch 70/100\n",
      "14/14 [==============================] - 0s 9ms/step - loss: 0.0822 - acc: 0.9765 - val_loss: 0.1113 - val_acc: 0.9720\n",
      "Epoch 71/100\n",
      "14/14 [==============================] - 0s 9ms/step - loss: 0.0815 - acc: 0.9765 - val_loss: 0.1112 - val_acc: 0.9720\n",
      "Epoch 72/100\n",
      "14/14 [==============================] - 0s 9ms/step - loss: 0.0810 - acc: 0.9765 - val_loss: 0.1108 - val_acc: 0.9720\n",
      "Epoch 73/100\n",
      "14/14 [==============================] - 0s 10ms/step - loss: 0.0804 - acc: 0.9765 - val_loss: 0.1105 - val_acc: 0.9720\n",
      "Epoch 74/100\n",
      "14/14 [==============================] - 0s 10ms/step - loss: 0.0798 - acc: 0.9765 - val_loss: 0.1102 - val_acc: 0.9720\n",
      "Epoch 75/100\n",
      "14/14 [==============================] - 0s 10ms/step - loss: 0.0793 - acc: 0.9765 - val_loss: 0.1100 - val_acc: 0.9720\n",
      "Epoch 76/100\n",
      "14/14 [==============================] - 0s 9ms/step - loss: 0.0788 - acc: 0.9765 - val_loss: 0.1087 - val_acc: 0.9720\n",
      "Epoch 77/100\n",
      "14/14 [==============================] - 0s 10ms/step - loss: 0.0783 - acc: 0.9765 - val_loss: 0.1079 - val_acc: 0.9720\n",
      "Epoch 78/100\n",
      "14/14 [==============================] - 0s 9ms/step - loss: 0.0778 - acc: 0.9765 - val_loss: 0.1070 - val_acc: 0.9720\n",
      "Epoch 79/100\n",
      "14/14 [==============================] - 0s 10ms/step - loss: 0.0774 - acc: 0.9765 - val_loss: 0.1067 - val_acc: 0.9720\n",
      "Epoch 80/100\n",
      "14/14 [==============================] - 0s 9ms/step - loss: 0.0769 - acc: 0.9765 - val_loss: 0.1064 - val_acc: 0.9720\n",
      "Epoch 81/100\n",
      "14/14 [==============================] - 0s 9ms/step - loss: 0.0764 - acc: 0.9765 - val_loss: 0.1061 - val_acc: 0.9720\n",
      "Epoch 82/100\n",
      "14/14 [==============================] - 0s 9ms/step - loss: 0.0759 - acc: 0.9765 - val_loss: 0.1059 - val_acc: 0.9720\n",
      "Epoch 83/100\n",
      "14/14 [==============================] - 0s 9ms/step - loss: 0.0754 - acc: 0.9765 - val_loss: 0.1054 - val_acc: 0.9720\n",
      "Epoch 84/100\n",
      "14/14 [==============================] - 0s 9ms/step - loss: 0.0751 - acc: 0.9765 - val_loss: 0.1049 - val_acc: 0.9720\n",
      "Epoch 85/100\n",
      "14/14 [==============================] - 0s 9ms/step - loss: 0.0747 - acc: 0.9765 - val_loss: 0.1046 - val_acc: 0.9720\n",
      "Epoch 86/100\n",
      "14/14 [==============================] - 0s 9ms/step - loss: 0.0742 - acc: 0.9765 - val_loss: 0.1044 - val_acc: 0.9720\n",
      "Epoch 87/100\n",
      "14/14 [==============================] - 0s 9ms/step - loss: 0.0738 - acc: 0.9765 - val_loss: 0.1041 - val_acc: 0.9720\n",
      "Epoch 88/100\n",
      "14/14 [==============================] - 0s 9ms/step - loss: 0.0733 - acc: 0.9765 - val_loss: 0.1040 - val_acc: 0.9720\n",
      "Epoch 89/100\n",
      "14/14 [==============================] - 0s 9ms/step - loss: 0.0730 - acc: 0.9765 - val_loss: 0.1030 - val_acc: 0.9720\n",
      "Epoch 90/100\n",
      "14/14 [==============================] - 0s 9ms/step - loss: 0.0725 - acc: 0.9765 - val_loss: 0.1028 - val_acc: 0.9720\n",
      "Epoch 91/100\n",
      "14/14 [==============================] - 0s 11ms/step - loss: 0.0721 - acc: 0.9765 - val_loss: 0.1027 - val_acc: 0.9720\n",
      "Epoch 92/100\n",
      "14/14 [==============================] - 0s 10ms/step - loss: 0.0718 - acc: 0.9765 - val_loss: 0.1021 - val_acc: 0.9720\n",
      "Epoch 93/100\n",
      "14/14 [==============================] - 0s 10ms/step - loss: 0.0713 - acc: 0.9765 - val_loss: 0.1019 - val_acc: 0.9720\n",
      "Epoch 94/100\n",
      "14/14 [==============================] - 0s 9ms/step - loss: 0.0710 - acc: 0.9765 - val_loss: 0.1017 - val_acc: 0.9720\n",
      "Epoch 95/100\n",
      "14/14 [==============================] - 0s 9ms/step - loss: 0.0706 - acc: 0.9765 - val_loss: 0.1014 - val_acc: 0.9720\n",
      "Epoch 96/100\n",
      "14/14 [==============================] - 0s 9ms/step - loss: 0.0701 - acc: 0.9765 - val_loss: 0.1009 - val_acc: 0.9720\n",
      "Epoch 97/100\n",
      "14/14 [==============================] - 0s 9ms/step - loss: 0.0697 - acc: 0.9765 - val_loss: 0.1008 - val_acc: 0.9720\n",
      "Epoch 98/100\n",
      "14/14 [==============================] - 0s 9ms/step - loss: 0.0694 - acc: 0.9765 - val_loss: 0.1007 - val_acc: 0.9720\n",
      "Epoch 99/100\n",
      "14/14 [==============================] - 0s 9ms/step - loss: 0.0690 - acc: 0.9765 - val_loss: 0.1003 - val_acc: 0.9720\n",
      "Epoch 100/100\n",
      "14/14 [==============================] - 0s 9ms/step - loss: 0.0687 - acc: 0.9765 - val_loss: 0.1019 - val_acc: 0.9720\n"
     ]
    },
    {
     "data": {
      "text/plain": [
       "<tensorflow.python.keras.callbacks.History at 0x1ef5ddb58e0>"
      ]
     },
     "execution_count": 52,
     "metadata": {},
     "output_type": "execute_result"
    }
   ],
   "source": [
    "model.fit(X_norm, y, epochs=100, validation_split=0.25)"
   ]
  },
  {
   "cell_type": "code",
   "execution_count": 53,
   "id": "44f74bc6",
   "metadata": {},
   "outputs": [],
   "source": [
    "h = model.history.history"
   ]
  },
  {
   "cell_type": "code",
   "execution_count": 54,
   "id": "58ba5467",
   "metadata": {},
   "outputs": [
    {
     "data": {
      "text/plain": [
       "<matplotlib.legend.Legend at 0x1ef5debd220>"
      ]
     },
     "execution_count": 54,
     "metadata": {},
     "output_type": "execute_result"
    },
    {
     "data": {
      "image/png": "[encoded data removed]",
      "text/plain": [
       "<Figure size 432x288 with 2 Axes>"
      ]
     },
     "metadata": {
      "needs_background": "light"
     },
     "output_type": "display_data"
    }
   ],
   "source": [
    "plt.subplot(1,2,1)\n",
    "plt.plot(h['loss'])\n",
    "plt.plot(h['val_loss'])\n",
    "plt.legend(['loss', 'val_loss'])\n",
    "\n",
    "plt.subplot(1,2,2)\n",
    "plt.plot(h['acc'])\n",
    "plt.plot(h['val_acc'])\n",
    "plt.legend(['acc', 'val_acc'])"
   ]
  },
  {
   "cell_type": "code",
   "execution_count": 55,
   "id": "0e0b7bf2",
   "metadata": {},
   "outputs": [],
   "source": [
    "y_pred = model.predict(X_norm).ravel()"
   ]
  },
  {
   "cell_type": "code",
   "execution_count": 56,
   "id": "a154bc9c",
   "metadata": {},
   "outputs": [
    {
     "data": {
      "text/plain": [
       "<matplotlib.legend.Legend at 0x1ef5df79670>"
      ]
     },
     "execution_count": 56,
     "metadata": {},
     "output_type": "execute_result"
    },
    {
     "data": {
      "image/png": "[encoded data removed]",
      "text/plain": [
       "<Figure size 432x288 with 1 Axes>"
      ]
     },
     "metadata": {
      "needs_background": "light"
     },
     "output_type": "display_data"
    }
   ],
   "source": [
    "plt.scatter(y_pred[y==0], y[y==0] + np.random.randn(len(y[y==0]))*0.05, alpha=0.2)\n",
    "plt.scatter(y_pred[y==1], y[y==1] + np.random.randn(len(y[y==1]))*0.05, alpha=0.2)\n",
    "plt.vlines([0.5], -0.2, 1.2, linestyles=':')\n",
    "plt.legend(cancer.target_names)"
   ]
  },
  {
   "cell_type": "code",
   "execution_count": null,
   "id": "5ecf81d3",
   "metadata": {},
   "outputs": [],
   "source": []
  },
  {
   "cell_type": "markdown",
   "id": "242d96a7",
   "metadata": {},
   "source": [
    "### 배치 설정\n",
    "- model.fit() 함수의 옵션 batch_size: 기본값이 32\n",
    "- batch_size 만큼 잘라서 훈련시킨 후, 그때 마다 가중치를 변경한다"
   ]
  },
  {
   "cell_type": "code",
   "execution_count": 76,
   "id": "e6320dbe",
   "metadata": {},
   "outputs": [
    {
     "name": "stdout",
     "output_type": "stream",
     "text": [
      "Help on method fit in module tensorflow.python.keras.engine.training:\n",
      "\n",
      "fit(x=None, y=None, batch_size=None, epochs=1, verbose='auto', callbacks=None, validation_split=0.0, validation_data=None, shuffle=True, class_weight=None, sample_weight=None, initial_epoch=0, steps_per_epoch=None, validation_steps=None, validation_batch_size=None, validation_freq=1, max_queue_size=10, workers=1, use_multiprocessing=False) method of tensorflow.python.keras.engine.sequential.Sequential instance\n",
      "    Trains the model for a fixed number of epochs (iterations on a dataset).\n",
      "    \n",
      "    Args:\n",
      "        x: Input data. It could be:\n",
      "          - A Numpy array (or array-like), or a list of arrays\n",
      "            (in case the model has multiple inputs).\n",
      "          - A TensorFlow tensor, or a list of tensors\n",
      "            (in case the model has multiple inputs).\n",
      "          - A dict mapping input names to the corresponding array/tensors,\n",
      "            if the model has named inputs.\n",
      "          - A `tf.data` dataset. Should return a tuple\n",
      "            of either `(inputs, targets)` or\n",
      "            `(inputs, targets, sample_weights)`.\n",
      "          - A generator or `keras.utils.Sequence` returning `(inputs, targets)`\n",
      "            or `(inputs, targets, sample_weights)`.\n",
      "          - A `tf.keras.utils.experimental.DatasetCreator`, which wraps a\n",
      "            callable that takes a single argument of type\n",
      "            `tf.distribute.InputContext`, and returns a `tf.data.Dataset`.\n",
      "            `DatasetCreator` should be used when users prefer to specify the\n",
      "            per-replica batching and sharding logic for the `Dataset`.\n",
      "            See `tf.keras.utils.experimental.DatasetCreator` doc for more\n",
      "            information.\n",
      "          A more detailed description of unpacking behavior for iterator types\n",
      "          (Dataset, generator, Sequence) is given below. If using\n",
      "          `tf.distribute.experimental.ParameterServerStrategy`, only\n",
      "          `DatasetCreator` type is supported for `x`.\n",
      "        y: Target data. Like the input data `x`,\n",
      "          it could be either Numpy array(s) or TensorFlow tensor(s).\n",
      "          It should be consistent with `x` (you cannot have Numpy inputs and\n",
      "          tensor targets, or inversely). If `x` is a dataset, generator,\n",
      "          or `keras.utils.Sequence` instance, `y` should\n",
      "          not be specified (since targets will be obtained from `x`).\n",
      "        batch_size: Integer or `None`.\n",
      "            Number of samples per gradient update.\n",
      "            If unspecified, `batch_size` will default to 32.\n",
      "            Do not specify the `batch_size` if your data is in the\n",
      "            form of datasets, generators, or `keras.utils.Sequence` instances\n",
      "            (since they generate batches).\n",
      "        epochs: Integer. Number of epochs to train the model.\n",
      "            An epoch is an iteration over the entire `x` and `y`\n",
      "            data provided.\n",
      "            Note that in conjunction with `initial_epoch`,\n",
      "            `epochs` is to be understood as \"final epoch\".\n",
      "            The model is not trained for a number of iterations\n",
      "            given by `epochs`, but merely until the epoch\n",
      "            of index `epochs` is reached.\n",
      "        verbose: 'auto', 0, 1, or 2. Verbosity mode.\n",
      "            0 = silent, 1 = progress bar, 2 = one line per epoch.\n",
      "            'auto' defaults to 1 for most cases, but 2 when used with\n",
      "            `ParameterServerStrategy`. Note that the progress bar is not\n",
      "            particularly useful when logged to a file, so verbose=2 is\n",
      "            recommended when not running interactively (eg, in a production\n",
      "            environment).\n",
      "        callbacks: List of `keras.callbacks.Callback` instances.\n",
      "            List of callbacks to apply during training.\n",
      "            See `tf.keras.callbacks`. Note `tf.keras.callbacks.ProgbarLogger`\n",
      "            and `tf.keras.callbacks.History` callbacks are created automatically\n",
      "            and need not be passed into `model.fit`.\n",
      "            `tf.keras.callbacks.ProgbarLogger` is created or not based on\n",
      "            `verbose` argument to `model.fit`.\n",
      "            Callbacks with batch-level calls are currently unsupported with\n",
      "            `tf.distribute.experimental.ParameterServerStrategy`, and users are\n",
      "            advised to implement epoch-level calls instead with an appropriate\n",
      "            `steps_per_epoch` value.\n",
      "        validation_split: Float between 0 and 1.\n",
      "            Fraction of the training data to be used as validation data.\n",
      "            The model will set apart this fraction of the training data,\n",
      "            will not train on it, and will evaluate\n",
      "            the loss and any model metrics\n",
      "            on this data at the end of each epoch.\n",
      "            The validation data is selected from the last samples\n",
      "            in the `x` and `y` data provided, before shuffling. This argument is\n",
      "            not supported when `x` is a dataset, generator or\n",
      "           `keras.utils.Sequence` instance.\n",
      "            `validation_split` is not yet supported with\n",
      "            `tf.distribute.experimental.ParameterServerStrategy`.\n",
      "        validation_data: Data on which to evaluate\n",
      "            the loss and any model metrics at the end of each epoch.\n",
      "            The model will not be trained on this data. Thus, note the fact\n",
      "            that the validation loss of data provided using `validation_split`\n",
      "            or `validation_data` is not affected by regularization layers like\n",
      "            noise and dropout.\n",
      "            `validation_data` will override `validation_split`.\n",
      "            `validation_data` could be:\n",
      "              - A tuple `(x_val, y_val)` of Numpy arrays or tensors.\n",
      "              - A tuple `(x_val, y_val, val_sample_weights)` of NumPy arrays.\n",
      "              - A `tf.data.Dataset`.\n",
      "              - A Python generator or `keras.utils.Sequence` returning\n",
      "              `(inputs, targets)` or `(inputs, targets, sample_weights)`.\n",
      "            `validation_data` is not yet supported with\n",
      "            `tf.distribute.experimental.ParameterServerStrategy`.\n",
      "        shuffle: Boolean (whether to shuffle the training data\n",
      "            before each epoch) or str (for 'batch'). This argument is ignored\n",
      "            when `x` is a generator or an object of tf.data.Dataset.\n",
      "            'batch' is a special option for dealing\n",
      "            with the limitations of HDF5 data; it shuffles in batch-sized\n",
      "            chunks. Has no effect when `steps_per_epoch` is not `None`.\n",
      "        class_weight: Optional dictionary mapping class indices (integers)\n",
      "            to a weight (float) value, used for weighting the loss function\n",
      "            (during training only).\n",
      "            This can be useful to tell the model to\n",
      "            \"pay more attention\" to samples from\n",
      "            an under-represented class.\n",
      "        sample_weight: Optional Numpy array of weights for\n",
      "            the training samples, used for weighting the loss function\n",
      "            (during training only). You can either pass a flat (1D)\n",
      "            Numpy array with the same length as the input samples\n",
      "            (1:1 mapping between weights and samples),\n",
      "            or in the case of temporal data,\n",
      "            you can pass a 2D array with shape\n",
      "            `(samples, sequence_length)`,\n",
      "            to apply a different weight to every timestep of every sample. This\n",
      "            argument is not supported when `x` is a dataset, generator, or\n",
      "           `keras.utils.Sequence` instance, instead provide the sample_weights\n",
      "            as the third element of `x`.\n",
      "        initial_epoch: Integer.\n",
      "            Epoch at which to start training\n",
      "            (useful for resuming a previous training run).\n",
      "        steps_per_epoch: Integer or `None`.\n",
      "            Total number of steps (batches of samples)\n",
      "            before declaring one epoch finished and starting the\n",
      "            next epoch. When training with input tensors such as\n",
      "            TensorFlow data tensors, the default `None` is equal to\n",
      "            the number of samples in your dataset divided by\n",
      "            the batch size, or 1 if that cannot be determined. If x is a\n",
      "            `tf.data` dataset, and 'steps_per_epoch'\n",
      "            is None, the epoch will run until the input dataset is exhausted.\n",
      "            When passing an infinitely repeating dataset, you must specify the\n",
      "            `steps_per_epoch` argument. This argument is not supported with\n",
      "            array inputs. `steps_per_epoch=None` is not supported when using\n",
      "            `tf.distribute.experimental.ParameterServerStrategy`.\n",
      "        validation_steps: Only relevant if `validation_data` is provided and\n",
      "            is a `tf.data` dataset. Total number of steps (batches of\n",
      "            samples) to draw before stopping when performing validation\n",
      "            at the end of every epoch. If 'validation_steps' is None, validation\n",
      "            will run until the `validation_data` dataset is exhausted. In the\n",
      "            case of an infinitely repeated dataset, it will run into an\n",
      "            infinite loop. If 'validation_steps' is specified and only part of\n",
      "            the dataset will be consumed, the evaluation will start from the\n",
      "            beginning of the dataset at each epoch. This ensures that the same\n",
      "            validation samples are used every time.\n",
      "        validation_batch_size: Integer or `None`.\n",
      "            Number of samples per validation batch.\n",
      "            If unspecified, will default to `batch_size`.\n",
      "            Do not specify the `validation_batch_size` if your data is in the\n",
      "            form of datasets, generators, or `keras.utils.Sequence` instances\n",
      "            (since they generate batches).\n",
      "        validation_freq: Only relevant if validation data is provided. Integer\n",
      "            or `collections.abc.Container` instance (e.g. list, tuple, etc.).\n",
      "            If an integer, specifies how many training epochs to run before a\n",
      "            new validation run is performed, e.g. `validation_freq=2` runs\n",
      "            validation every 2 epochs. If a Container, specifies the epochs on\n",
      "            which to run validation, e.g. `validation_freq=[1, 2, 10]` runs\n",
      "            validation at the end of the 1st, 2nd, and 10th epochs.\n",
      "        max_queue_size: Integer. Used for generator or `keras.utils.Sequence`\n",
      "            input only. Maximum size for the generator queue.\n",
      "            If unspecified, `max_queue_size` will default to 10.\n",
      "        workers: Integer. Used for generator or `keras.utils.Sequence` input\n",
      "            only. Maximum number of processes to spin up\n",
      "            when using process-based threading. If unspecified, `workers`\n",
      "            will default to 1.\n",
      "        use_multiprocessing: Boolean. Used for generator or\n",
      "            `keras.utils.Sequence` input only. If `True`, use process-based\n",
      "            threading. If unspecified, `use_multiprocessing` will default to\n",
      "            `False`. Note that because this implementation relies on\n",
      "            multiprocessing, you should not pass non-picklable arguments to\n",
      "            the generator as they can't be passed easily to children processes.\n",
      "    \n",
      "    Unpacking behavior for iterator-like inputs:\n",
      "        A common pattern is to pass a tf.data.Dataset, generator, or\n",
      "      tf.keras.utils.Sequence to the `x` argument of fit, which will in fact\n",
      "      yield not only features (x) but optionally targets (y) and sample weights.\n",
      "      Keras requires that the output of such iterator-likes be unambiguous. The\n",
      "      iterator should return a tuple of length 1, 2, or 3, where the optional\n",
      "      second and third elements will be used for y and sample_weight\n",
      "      respectively. Any other type provided will be wrapped in a length one\n",
      "      tuple, effectively treating everything as 'x'. When yielding dicts, they\n",
      "      should still adhere to the top-level tuple structure.\n",
      "      e.g. `({\"x0\": x0, \"x1\": x1}, y)`. Keras will not attempt to separate\n",
      "      features, targets, and weights from the keys of a single dict.\n",
      "        A notable unsupported data type is the namedtuple. The reason is that\n",
      "      it behaves like both an ordered datatype (tuple) and a mapping\n",
      "      datatype (dict). So given a namedtuple of the form:\n",
      "          `namedtuple(\"example_tuple\", [\"y\", \"x\"])`\n",
      "      it is ambiguous whether to reverse the order of the elements when\n",
      "      interpreting the value. Even worse is a tuple of the form:\n",
      "          `namedtuple(\"other_tuple\", [\"x\", \"y\", \"z\"])`\n",
      "      where it is unclear if the tuple was intended to be unpacked into x, y,\n",
      "      and sample_weight or passed through as a single element to `x`. As a\n",
      "      result the data processing code will simply raise a ValueError if it\n",
      "      encounters a namedtuple. (Along with instructions to remedy the issue.)\n",
      "    \n",
      "    Returns:\n",
      "        A `History` object. Its `History.history` attribute is\n",
      "        a record of training loss values and metrics values\n",
      "        at successive epochs, as well as validation loss values\n",
      "        and validation metrics values (if applicable).\n",
      "    \n",
      "    Raises:\n",
      "        RuntimeError: 1. If the model was never compiled or,\n",
      "        2. If `model.fit` is  wrapped in `tf.function`.\n",
      "    \n",
      "        ValueError: In case of mismatch between the provided input data\n",
      "            and what the model expects or when the input data is empty.\n",
      "\n"
     ]
    }
   ],
   "source": [
    "help(model.fit)"
   ]
  },
  {
   "cell_type": "code",
   "execution_count": null,
   "id": "760d3aa7",
   "metadata": {},
   "outputs": [],
   "source": []
  },
  {
   "cell_type": "code",
   "execution_count": 57,
   "id": "7397e790",
   "metadata": {},
   "outputs": [
    {
     "name": "stdout",
     "output_type": "stream",
     "text": [
      "Model: \"sequential_4\"\n",
      "_________________________________________________________________\n",
      "Layer (type)                 Output Shape              Param #   \n",
      "=================================================================\n",
      "dense_10 (Dense)             (None, 10)                310       \n",
      "_________________________________________________________________\n",
      "dense_11 (Dense)             (None, 5)                 55        \n",
      "_________________________________________________________________\n",
      "dense_12 (Dense)             (None, 1)                 6         \n",
      "=================================================================\n",
      "Total params: 371\n",
      "Trainable params: 371\n",
      "Non-trainable params: 0\n",
      "_________________________________________________________________\n"
     ]
    }
   ],
   "source": [
    "model = keras.models.Sequential()\n",
    "model.add(keras.layers.Dense(10, input_shape=(30,), activation='relu'))\n",
    "model.add(keras.layers.Dense(5, activation='relu'))\n",
    "model.add(keras.layers.Dense(1, activation='sigmoid'))\n",
    "model.summary()"
   ]
  },
  {
   "cell_type": "code",
   "execution_count": 58,
   "id": "5d06463e",
   "metadata": {},
   "outputs": [],
   "source": [
    "model.compile(loss='binary_crossentropy', optimizer='sgd', metrics=['acc'])"
   ]
  },
  {
   "cell_type": "code",
   "execution_count": 59,
   "id": "f22cd91a",
   "metadata": {
    "scrolled": true
   },
   "outputs": [
    {
     "name": "stdout",
     "output_type": "stream",
     "text": [
      "Epoch 1/100\n",
      "27/27 [==============================] - 1s 14ms/step - loss: 0.7462 - acc: 0.4906 - val_loss: 0.6362 - val_acc: 0.6364\n",
      "Epoch 2/100\n",
      "27/27 [==============================] - 0s 9ms/step - loss: 0.6807 - acc: 0.5610 - val_loss: 0.5980 - val_acc: 0.7133\n",
      "Epoch 3/100\n",
      "27/27 [==============================] - 0s 9ms/step - loss: 0.6401 - acc: 0.5915 - val_loss: 0.5705 - val_acc: 0.7203\n",
      "Epoch 4/100\n",
      "27/27 [==============================] - 0s 9ms/step - loss: 0.6090 - acc: 0.6056 - val_loss: 0.5436 - val_acc: 0.7552\n",
      "Epoch 5/100\n",
      "27/27 [==============================] - 0s 10ms/step - loss: 0.5782 - acc: 0.6432 - val_loss: 0.5143 - val_acc: 0.7692\n",
      "Epoch 6/100\n",
      "27/27 [==============================] - 0s 9ms/step - loss: 0.5467 - acc: 0.6596 - val_loss: 0.4836 - val_acc: 0.7902\n",
      "Epoch 7/100\n",
      "27/27 [==============================] - 0s 9ms/step - loss: 0.5131 - acc: 0.6948 - val_loss: 0.4498 - val_acc: 0.7972\n",
      "Epoch 8/100\n",
      "27/27 [==============================] - 0s 10ms/step - loss: 0.4775 - acc: 0.8380 - val_loss: 0.4155 - val_acc: 0.9510\n",
      "Epoch 9/100\n",
      "27/27 [==============================] - 0s 9ms/step - loss: 0.4412 - acc: 0.9249 - val_loss: 0.3811 - val_acc: 0.9650\n",
      "Epoch 10/100\n",
      "27/27 [==============================] - 0s 9ms/step - loss: 0.4048 - acc: 0.9366 - val_loss: 0.3485 - val_acc: 0.9720\n",
      "Epoch 11/100\n",
      "27/27 [==============================] - 0s 10ms/step - loss: 0.3709 - acc: 0.9390 - val_loss: 0.3194 - val_acc: 0.9720\n",
      "Epoch 12/100\n",
      "27/27 [==============================] - 0s 9ms/step - loss: 0.3373 - acc: 0.9460 - val_loss: 0.2923 - val_acc: 0.9720\n",
      "Epoch 13/100\n",
      "27/27 [==============================] - 0s 10ms/step - loss: 0.3060 - acc: 0.9507 - val_loss: 0.2684 - val_acc: 0.9720\n",
      "Epoch 14/100\n",
      "27/27 [==============================] - 0s 8ms/step - loss: 0.2764 - acc: 0.9531 - val_loss: 0.2465 - val_acc: 0.9720\n",
      "Epoch 15/100\n",
      "27/27 [==============================] - 0s 9ms/step - loss: 0.2470 - acc: 0.9577 - val_loss: 0.2263 - val_acc: 0.9580\n",
      "Epoch 16/100\n",
      "27/27 [==============================] - 0s 8ms/step - loss: 0.2205 - acc: 0.9624 - val_loss: 0.2078 - val_acc: 0.9510\n",
      "Epoch 17/100\n",
      "27/27 [==============================] - 0s 9ms/step - loss: 0.1969 - acc: 0.9671 - val_loss: 0.1937 - val_acc: 0.9580\n",
      "Epoch 18/100\n",
      "27/27 [==============================] - 0s 9ms/step - loss: 0.1771 - acc: 0.9695 - val_loss: 0.1818 - val_acc: 0.9580\n",
      "Epoch 19/100\n",
      "27/27 [==============================] - 0s 9ms/step - loss: 0.1611 - acc: 0.9695 - val_loss: 0.1719 - val_acc: 0.9650\n",
      "Epoch 20/100\n",
      "27/27 [==============================] - 0s 9ms/step - loss: 0.1483 - acc: 0.9695 - val_loss: 0.1646 - val_acc: 0.9510\n",
      "Epoch 21/100\n",
      "27/27 [==============================] - 0s 8ms/step - loss: 0.1378 - acc: 0.9695 - val_loss: 0.1586 - val_acc: 0.9441\n",
      "Epoch 22/100\n",
      "27/27 [==============================] - 0s 9ms/step - loss: 0.1288 - acc: 0.9718 - val_loss: 0.1553 - val_acc: 0.9441\n",
      "Epoch 23/100\n",
      "27/27 [==============================] - 0s 9ms/step - loss: 0.1211 - acc: 0.9718 - val_loss: 0.1506 - val_acc: 0.9441\n",
      "Epoch 24/100\n",
      "27/27 [==============================] - 0s 8ms/step - loss: 0.1145 - acc: 0.9765 - val_loss: 0.1467 - val_acc: 0.9441\n",
      "Epoch 25/100\n",
      "27/27 [==============================] - 0s 9ms/step - loss: 0.1089 - acc: 0.9765 - val_loss: 0.1433 - val_acc: 0.9441\n",
      "Epoch 26/100\n",
      "27/27 [==============================] - 0s 8ms/step - loss: 0.1041 - acc: 0.9789 - val_loss: 0.1407 - val_acc: 0.9441\n",
      "Epoch 27/100\n",
      "27/27 [==============================] - 0s 9ms/step - loss: 0.1001 - acc: 0.9789 - val_loss: 0.1382 - val_acc: 0.9441\n",
      "Epoch 28/100\n",
      "27/27 [==============================] - 0s 9ms/step - loss: 0.0964 - acc: 0.9765 - val_loss: 0.1360 - val_acc: 0.9441\n",
      "Epoch 29/100\n",
      "27/27 [==============================] - 0s 9ms/step - loss: 0.0931 - acc: 0.9765 - val_loss: 0.1342 - val_acc: 0.9441\n",
      "Epoch 30/100\n",
      "27/27 [==============================] - 0s 9ms/step - loss: 0.0904 - acc: 0.9789 - val_loss: 0.1329 - val_acc: 0.9441\n",
      "Epoch 31/100\n",
      "27/27 [==============================] - 0s 9ms/step - loss: 0.0879 - acc: 0.9789 - val_loss: 0.1314 - val_acc: 0.9441\n",
      "Epoch 32/100\n",
      "27/27 [==============================] - 0s 9ms/step - loss: 0.0857 - acc: 0.9789 - val_loss: 0.1301 - val_acc: 0.9441\n",
      "Epoch 33/100\n",
      "27/27 [==============================] - 0s 9ms/step - loss: 0.0838 - acc: 0.9789 - val_loss: 0.1287 - val_acc: 0.9441\n",
      "Epoch 34/100\n",
      "27/27 [==============================] - 0s 9ms/step - loss: 0.0818 - acc: 0.9789 - val_loss: 0.1276 - val_acc: 0.9510\n",
      "Epoch 35/100\n",
      "27/27 [==============================] - 0s 9ms/step - loss: 0.0801 - acc: 0.9789 - val_loss: 0.1268 - val_acc: 0.9510\n",
      "Epoch 36/100\n",
      "27/27 [==============================] - 0s 9ms/step - loss: 0.0785 - acc: 0.9789 - val_loss: 0.1257 - val_acc: 0.9580\n",
      "Epoch 37/100\n",
      "27/27 [==============================] - 0s 9ms/step - loss: 0.0770 - acc: 0.9789 - val_loss: 0.1254 - val_acc: 0.9580\n",
      "Epoch 38/100\n",
      "27/27 [==============================] - 0s 9ms/step - loss: 0.0754 - acc: 0.9789 - val_loss: 0.1244 - val_acc: 0.9580\n",
      "Epoch 39/100\n",
      "27/27 [==============================] - 0s 9ms/step - loss: 0.0740 - acc: 0.9812 - val_loss: 0.1239 - val_acc: 0.9580\n",
      "Epoch 40/100\n",
      "27/27 [==============================] - 0s 8ms/step - loss: 0.0727 - acc: 0.9812 - val_loss: 0.1237 - val_acc: 0.9580\n",
      "Epoch 41/100\n",
      "27/27 [==============================] - 0s 8ms/step - loss: 0.0715 - acc: 0.9812 - val_loss: 0.1230 - val_acc: 0.9580\n",
      "Epoch 42/100\n",
      "27/27 [==============================] - 0s 8ms/step - loss: 0.0705 - acc: 0.9812 - val_loss: 0.1226 - val_acc: 0.9580\n",
      "Epoch 43/100\n",
      "27/27 [==============================] - 0s 9ms/step - loss: 0.0692 - acc: 0.9812 - val_loss: 0.1226 - val_acc: 0.9580\n",
      "Epoch 44/100\n",
      "27/27 [==============================] - 0s 9ms/step - loss: 0.0681 - acc: 0.9812 - val_loss: 0.1224 - val_acc: 0.9580\n",
      "Epoch 45/100\n",
      "27/27 [==============================] - 0s 8ms/step - loss: 0.0672 - acc: 0.9812 - val_loss: 0.1226 - val_acc: 0.9580\n",
      "Epoch 46/100\n",
      "27/27 [==============================] - 0s 9ms/step - loss: 0.0662 - acc: 0.9812 - val_loss: 0.1221 - val_acc: 0.9580\n",
      "Epoch 47/100\n",
      "27/27 [==============================] - 0s 9ms/step - loss: 0.0655 - acc: 0.9812 - val_loss: 0.1213 - val_acc: 0.9580\n",
      "Epoch 48/100\n",
      "27/27 [==============================] - 0s 9ms/step - loss: 0.0646 - acc: 0.9812 - val_loss: 0.1206 - val_acc: 0.9580\n",
      "Epoch 49/100\n",
      "27/27 [==============================] - 0s 10ms/step - loss: 0.0639 - acc: 0.9789 - val_loss: 0.1212 - val_acc: 0.9580\n",
      "Epoch 50/100\n",
      "27/27 [==============================] - 0s 8ms/step - loss: 0.0632 - acc: 0.9812 - val_loss: 0.1207 - val_acc: 0.9580\n",
      "Epoch 51/100\n",
      "27/27 [==============================] - 0s 8ms/step - loss: 0.0625 - acc: 0.9812 - val_loss: 0.1200 - val_acc: 0.9580\n",
      "Epoch 52/100\n",
      "27/27 [==============================] - 0s 8ms/step - loss: 0.0620 - acc: 0.9812 - val_loss: 0.1192 - val_acc: 0.9580\n",
      "Epoch 53/100\n",
      "27/27 [==============================] - 0s 9ms/step - loss: 0.0613 - acc: 0.9789 - val_loss: 0.1192 - val_acc: 0.9580\n",
      "Epoch 54/100\n",
      "27/27 [==============================] - 0s 9ms/step - loss: 0.0607 - acc: 0.9789 - val_loss: 0.1186 - val_acc: 0.9580\n",
      "Epoch 55/100\n",
      "27/27 [==============================] - 0s 9ms/step - loss: 0.0601 - acc: 0.9812 - val_loss: 0.1181 - val_acc: 0.9580\n",
      "Epoch 56/100\n",
      "27/27 [==============================] - 0s 9ms/step - loss: 0.0596 - acc: 0.9789 - val_loss: 0.1174 - val_acc: 0.9580\n",
      "Epoch 57/100\n",
      "27/27 [==============================] - 0s 9ms/step - loss: 0.0590 - acc: 0.9789 - val_loss: 0.1170 - val_acc: 0.9580\n",
      "Epoch 58/100\n",
      "27/27 [==============================] - 0s 8ms/step - loss: 0.0587 - acc: 0.9789 - val_loss: 0.1166 - val_acc: 0.9580\n",
      "Epoch 59/100\n",
      "27/27 [==============================] - 0s 9ms/step - loss: 0.0581 - acc: 0.9812 - val_loss: 0.1159 - val_acc: 0.9580\n",
      "Epoch 60/100\n",
      "27/27 [==============================] - 0s 8ms/step - loss: 0.0575 - acc: 0.9789 - val_loss: 0.1159 - val_acc: 0.9580\n",
      "Epoch 61/100\n",
      "27/27 [==============================] - 0s 9ms/step - loss: 0.0571 - acc: 0.9812 - val_loss: 0.1156 - val_acc: 0.9580\n",
      "Epoch 62/100\n",
      "27/27 [==============================] - 0s 8ms/step - loss: 0.0566 - acc: 0.9812 - val_loss: 0.1152 - val_acc: 0.9580\n",
      "Epoch 63/100\n"
     ]
    },
    {
     "name": "stdout",
     "output_type": "stream",
     "text": [
      "27/27 [==============================] - 0s 8ms/step - loss: 0.0562 - acc: 0.9812 - val_loss: 0.1150 - val_acc: 0.9580\n",
      "Epoch 64/100\n",
      "27/27 [==============================] - 0s 9ms/step - loss: 0.0558 - acc: 0.9789 - val_loss: 0.1147 - val_acc: 0.9580\n",
      "Epoch 65/100\n",
      "27/27 [==============================] - 0s 8ms/step - loss: 0.0554 - acc: 0.9789 - val_loss: 0.1145 - val_acc: 0.9580\n",
      "Epoch 66/100\n",
      "27/27 [==============================] - 0s 8ms/step - loss: 0.0549 - acc: 0.9812 - val_loss: 0.1139 - val_acc: 0.9580\n",
      "Epoch 67/100\n",
      "27/27 [==============================] - 0s 9ms/step - loss: 0.0542 - acc: 0.9812 - val_loss: 0.1136 - val_acc: 0.9580\n",
      "Epoch 68/100\n",
      "27/27 [==============================] - 0s 8ms/step - loss: 0.0539 - acc: 0.9789 - val_loss: 0.1131 - val_acc: 0.9580\n",
      "Epoch 69/100\n",
      "27/27 [==============================] - 0s 9ms/step - loss: 0.0534 - acc: 0.9812 - val_loss: 0.1129 - val_acc: 0.9650\n",
      "Epoch 70/100\n",
      "27/27 [==============================] - 0s 9ms/step - loss: 0.0530 - acc: 0.9812 - val_loss: 0.1130 - val_acc: 0.9580\n",
      "Epoch 71/100\n",
      "27/27 [==============================] - 0s 9ms/step - loss: 0.0525 - acc: 0.9812 - val_loss: 0.1131 - val_acc: 0.9580\n",
      "Epoch 72/100\n",
      "27/27 [==============================] - 0s 8ms/step - loss: 0.0521 - acc: 0.9836 - val_loss: 0.1129 - val_acc: 0.9580\n",
      "Epoch 73/100\n",
      "27/27 [==============================] - 0s 8ms/step - loss: 0.0516 - acc: 0.9836 - val_loss: 0.1122 - val_acc: 0.9650\n",
      "Epoch 74/100\n",
      "27/27 [==============================] - 0s 9ms/step - loss: 0.0511 - acc: 0.9836 - val_loss: 0.1118 - val_acc: 0.9650\n",
      "Epoch 75/100\n",
      "27/27 [==============================] - 0s 8ms/step - loss: 0.0507 - acc: 0.9836 - val_loss: 0.1120 - val_acc: 0.9650\n",
      "Epoch 76/100\n",
      "27/27 [==============================] - 0s 9ms/step - loss: 0.0502 - acc: 0.9836 - val_loss: 0.1114 - val_acc: 0.9650\n",
      "Epoch 77/100\n",
      "27/27 [==============================] - 0s 8ms/step - loss: 0.0498 - acc: 0.9836 - val_loss: 0.1111 - val_acc: 0.9650\n",
      "Epoch 78/100\n",
      "27/27 [==============================] - 0s 8ms/step - loss: 0.0495 - acc: 0.9859 - val_loss: 0.1109 - val_acc: 0.9650\n",
      "Epoch 79/100\n",
      "27/27 [==============================] - 0s 9ms/step - loss: 0.0491 - acc: 0.9836 - val_loss: 0.1111 - val_acc: 0.9650\n",
      "Epoch 80/100\n",
      "27/27 [==============================] - 0s 8ms/step - loss: 0.0488 - acc: 0.9859 - val_loss: 0.1109 - val_acc: 0.9650\n",
      "Epoch 81/100\n",
      "27/27 [==============================] - 0s 9ms/step - loss: 0.0484 - acc: 0.9859 - val_loss: 0.1109 - val_acc: 0.9650\n",
      "Epoch 82/100\n",
      "27/27 [==============================] - 0s 9ms/step - loss: 0.0481 - acc: 0.9883 - val_loss: 0.1103 - val_acc: 0.9650\n",
      "Epoch 83/100\n",
      "27/27 [==============================] - 0s 9ms/step - loss: 0.0477 - acc: 0.9883 - val_loss: 0.1104 - val_acc: 0.9650\n",
      "Epoch 84/100\n",
      "27/27 [==============================] - 0s 9ms/step - loss: 0.0476 - acc: 0.9883 - val_loss: 0.1104 - val_acc: 0.9650\n",
      "Epoch 85/100\n",
      "27/27 [==============================] - 0s 9ms/step - loss: 0.0473 - acc: 0.9883 - val_loss: 0.1101 - val_acc: 0.9650\n",
      "Epoch 86/100\n",
      "27/27 [==============================] - 0s 10ms/step - loss: 0.0469 - acc: 0.9883 - val_loss: 0.1105 - val_acc: 0.9650\n",
      "Epoch 87/100\n",
      "27/27 [==============================] - 0s 9ms/step - loss: 0.0467 - acc: 0.9883 - val_loss: 0.1104 - val_acc: 0.9650\n",
      "Epoch 88/100\n",
      "27/27 [==============================] - 0s 9ms/step - loss: 0.0464 - acc: 0.9883 - val_loss: 0.1107 - val_acc: 0.9650\n",
      "Epoch 89/100\n",
      "27/27 [==============================] - 0s 9ms/step - loss: 0.0462 - acc: 0.9883 - val_loss: 0.1107 - val_acc: 0.9650\n",
      "Epoch 90/100\n",
      "27/27 [==============================] - 0s 9ms/step - loss: 0.0459 - acc: 0.9883 - val_loss: 0.1109 - val_acc: 0.9650\n",
      "Epoch 91/100\n",
      "27/27 [==============================] - 0s 9ms/step - loss: 0.0458 - acc: 0.9883 - val_loss: 0.1110 - val_acc: 0.9650\n",
      "Epoch 92/100\n",
      "27/27 [==============================] - 0s 9ms/step - loss: 0.0454 - acc: 0.9883 - val_loss: 0.1113 - val_acc: 0.9650\n",
      "Epoch 93/100\n",
      "27/27 [==============================] - 0s 9ms/step - loss: 0.0452 - acc: 0.9883 - val_loss: 0.1114 - val_acc: 0.9650\n",
      "Epoch 94/100\n",
      "27/27 [==============================] - 0s 9ms/step - loss: 0.0451 - acc: 0.9883 - val_loss: 0.1114 - val_acc: 0.9650\n",
      "Epoch 95/100\n",
      "27/27 [==============================] - 0s 8ms/step - loss: 0.0448 - acc: 0.9883 - val_loss: 0.1116 - val_acc: 0.9650\n",
      "Epoch 96/100\n",
      "27/27 [==============================] - 0s 9ms/step - loss: 0.0445 - acc: 0.9883 - val_loss: 0.1114 - val_acc: 0.9650\n",
      "Epoch 97/100\n",
      "27/27 [==============================] - 0s 9ms/step - loss: 0.0445 - acc: 0.9883 - val_loss: 0.1116 - val_acc: 0.9650\n",
      "Epoch 98/100\n",
      "27/27 [==============================] - 0s 9ms/step - loss: 0.0441 - acc: 0.9883 - val_loss: 0.1115 - val_acc: 0.9650\n",
      "Epoch 99/100\n",
      "27/27 [==============================] - 0s 9ms/step - loss: 0.0439 - acc: 0.9883 - val_loss: 0.1112 - val_acc: 0.9650\n",
      "Epoch 100/100\n",
      "27/27 [==============================] - 0s 9ms/step - loss: 0.0437 - acc: 0.9883 - val_loss: 0.1113 - val_acc: 0.9650\n"
     ]
    },
    {
     "data": {
      "text/plain": [
       "<tensorflow.python.keras.callbacks.History at 0x1ef5e004610>"
      ]
     },
     "execution_count": 59,
     "metadata": {},
     "output_type": "execute_result"
    }
   ],
   "source": [
    "model.fit(X_norm, y, epochs=100, batch_size=16, validation_split=0.25)"
   ]
  },
  {
   "cell_type": "code",
   "execution_count": 60,
   "id": "8aa33ee3",
   "metadata": {},
   "outputs": [],
   "source": [
    "h = model.history.history"
   ]
  },
  {
   "cell_type": "code",
   "execution_count": 61,
   "id": "447d77fa",
   "metadata": {},
   "outputs": [
    {
     "data": {
      "text/plain": [
       "<matplotlib.legend.Legend at 0x1ef5f0f74f0>"
      ]
     },
     "execution_count": 61,
     "metadata": {},
     "output_type": "execute_result"
    },
    {
     "data": {
      "image/png": "[encoded data removed]",
      "text/plain": [
       "<Figure size 432x288 with 2 Axes>"
      ]
     },
     "metadata": {
      "needs_background": "light"
     },
     "output_type": "display_data"
    }
   ],
   "source": [
    "plt.subplot(1,2,1)\n",
    "plt.plot(h['loss'])\n",
    "plt.plot(h['val_loss'])\n",
    "plt.legend(['loss', 'val_loss'])\n",
    "\n",
    "plt.subplot(1,2,2)\n",
    "plt.plot(h['acc'])\n",
    "plt.plot(h['val_acc'])\n",
    "plt.legend(['acc', 'val_acc'])"
   ]
  },
  {
   "cell_type": "code",
   "execution_count": null,
   "id": "dfe82e9c",
   "metadata": {},
   "outputs": [],
   "source": []
  }
 ],
 "metadata": {
  "kernelspec": {
   "display_name": "Python 3",
   "language": "python",
   "name": "python3"
  },
  "language_info": {
   "codemirror_mode": {
    "name": "ipython",
    "version": 3
   },
   "file_extension": ".py",
   "mimetype": "text/x-python",
   "name": "python",
   "nbconvert_exporter": "python",
   "pygments_lexer": "ipython3",
   "version": "3.8.8"
  }
 },
 "nbformat": 4,
 "nbformat_minor": 5
}
