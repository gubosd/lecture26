{
 "cells": [
  {
   "cell_type": "markdown",
   "id": "af050044",
   "metadata": {},
   "source": [
    "## 신경망과 딥러닝\n",
    "# 신경망"
   ]
  },
  {
   "cell_type": "code",
   "execution_count": 1,
   "id": "85c2b777",
   "metadata": {},
   "outputs": [],
   "source": [
    "import numpy as np\n",
    "import pandas as pd\n",
    "import matplotlib.pyplot as plt"
   ]
  },
  {
   "cell_type": "markdown",
   "id": "40f39f9f",
   "metadata": {},
   "source": [
    "### 신경망 계산방법"
   ]
  },
  {
   "attachments": {
    "image.png": {
     "image/png": "[encoded data removed]"
    }
   },
   "cell_type": "markdown",
   "id": "b300102c",
   "metadata": {},
   "source": [
    "![image.png](attachment:image.png)"
   ]
  },
  {
   "cell_type": "code",
   "execution_count": 2,
   "id": "6e4f3bf4",
   "metadata": {},
   "outputs": [
    {
     "data": {
      "text/plain": [
       "array([[ 1,  0,  1],\n",
       "       [ 1,  1,  0],\n",
       "       [ 1, -1,  1],\n",
       "       [ 1,  1,  1],\n",
       "       [ 1,  2,  1]])"
      ]
     },
     "execution_count": 2,
     "metadata": {},
     "output_type": "execute_result"
    }
   ],
   "source": [
    "X = np.array([[1,0,1], [1,1,0], [1,-1,1], [1,1,1], [1,2,1]])\n",
    "X"
   ]
  },
  {
   "cell_type": "code",
   "execution_count": 3,
   "id": "fca00c83",
   "metadata": {},
   "outputs": [
    {
     "data": {
      "text/plain": [
       "array([ 1,  1, -1])"
      ]
     },
     "execution_count": 3,
     "metadata": {},
     "output_type": "execute_result"
    }
   ],
   "source": [
    "W = np.array([1,1,-1])\n",
    "W"
   ]
  },
  {
   "cell_type": "code",
   "execution_count": null,
   "id": "9bec92fe",
   "metadata": {},
   "outputs": [],
   "source": []
  },
  {
   "cell_type": "code",
   "execution_count": 4,
   "id": "2636e872",
   "metadata": {},
   "outputs": [
    {
     "data": {
      "text/plain": [
       "array([ 0,  2, -1,  1,  2])"
      ]
     },
     "execution_count": 4,
     "metadata": {},
     "output_type": "execute_result"
    }
   ],
   "source": [
    "### 행렬곱 적용\n",
    "X@W"
   ]
  },
  {
   "cell_type": "code",
   "execution_count": 5,
   "id": "46460fcc",
   "metadata": {},
   "outputs": [
    {
     "data": {
      "text/plain": [
       "array([[ 0],\n",
       "       [ 2],\n",
       "       [-1],\n",
       "       [ 1],\n",
       "       [ 2]])"
      ]
     },
     "execution_count": 5,
     "metadata": {},
     "output_type": "execute_result"
    }
   ],
   "source": [
    "X@(W.reshape(3,1))"
   ]
  },
  {
   "cell_type": "code",
   "execution_count": null,
   "id": "c10da4e7",
   "metadata": {},
   "outputs": [],
   "source": []
  },
  {
   "cell_type": "code",
   "execution_count": 6,
   "id": "1a9253cc",
   "metadata": {},
   "outputs": [
    {
     "data": {
      "text/plain": [
       "array([ 0.1,  2.1, -0.9,  1.1,  2.1])"
      ]
     },
     "execution_count": 6,
     "metadata": {},
     "output_type": "execute_result"
    }
   ],
   "source": [
    "### 절편값 적용\n",
    "b= 0.1\n",
    "\n",
    "X@W + b"
   ]
  },
  {
   "cell_type": "code",
   "execution_count": null,
   "id": "e29ba7a8",
   "metadata": {},
   "outputs": [],
   "source": []
  },
  {
   "cell_type": "markdown",
   "id": "34f2ff22",
   "metadata": {},
   "source": [
    "### 아이리스 선형회귀"
   ]
  },
  {
   "cell_type": "code",
   "execution_count": 7,
   "id": "b3b613b0",
   "metadata": {},
   "outputs": [],
   "source": [
    "from sklearn.datasets import load_iris\n",
    "iris = load_iris()"
   ]
  },
  {
   "cell_type": "code",
   "execution_count": 8,
   "id": "030ed993",
   "metadata": {},
   "outputs": [
    {
     "data": {
      "text/plain": [
       "(150, 4)"
      ]
     },
     "execution_count": 8,
     "metadata": {},
     "output_type": "execute_result"
    }
   ],
   "source": [
    "iris.data.shape"
   ]
  },
  {
   "cell_type": "code",
   "execution_count": 9,
   "id": "ba3b7aa1",
   "metadata": {},
   "outputs": [
    {
     "data": {
      "text/plain": [
       "['sepal length (cm)',\n",
       " 'sepal width (cm)',\n",
       " 'petal length (cm)',\n",
       " 'petal width (cm)']"
      ]
     },
     "execution_count": 9,
     "metadata": {},
     "output_type": "execute_result"
    }
   ],
   "source": [
    "iris.feature_names"
   ]
  },
  {
   "cell_type": "code",
   "execution_count": 14,
   "id": "038af25c",
   "metadata": {},
   "outputs": [
    {
     "data": {
      "text/plain": [
       "((150, 3), (150,))"
      ]
     },
     "execution_count": 14,
     "metadata": {},
     "output_type": "execute_result"
    }
   ],
   "source": [
    "X = iris.data[:, :3] # 훈련데이터\n",
    "y = iris.data[:, 3]  # 목표값\n",
    "X.shape, y.shape"
   ]
  },
  {
   "cell_type": "code",
   "execution_count": 18,
   "id": "173d6817",
   "metadata": {},
   "outputs": [
    {
     "data": {
      "text/plain": [
       "array([-1.46027132, -0.81436812, -0.94922296])"
      ]
     },
     "metadata": {},
     "output_type": "display_data"
    },
    {
     "data": {
      "text/plain": [
       "0.39641324949615775"
      ]
     },
     "metadata": {},
     "output_type": "display_data"
    }
   ],
   "source": [
    "# 신경망을 훈련시키기 위해서는, 처음에 가중치 값이 있어야 한다 (가중치 초기화)\n",
    "W = np.random.randn(3)\n",
    "b = np.random.randn()\n",
    "display(W, b)"
   ]
  },
  {
   "cell_type": "code",
   "execution_count": 19,
   "id": "b3af3361",
   "metadata": {
    "scrolled": true
   },
   "outputs": [
    {
     "data": {
      "text/plain": [
       "array([-11.23017106, -10.53093274, -10.3068298 , -10.26921045,\n",
       "       -11.16558074, -12.27876659, -10.41859859, -11.09762941,\n",
       "        -9.71936026, -10.70729184, -11.92604838, -10.90049744,\n",
       "       -10.3849056 ,  -9.37000305, -12.46970045, -12.93418746,\n",
       "       -11.89907741, -11.23017106, -12.63541118, -11.56940379,\n",
       "       -11.87158253, -11.48796698, -10.20178303, -11.35206432,\n",
       "       -11.18526433, -10.86680446, -11.19255171, -11.47112049,\n",
       "       -11.29476138, -10.59159669, -10.65618701, -11.68173794,\n",
       "       -11.95974136, -12.38433728, -10.70729184, -10.6499889 ,\n",
       "       -11.71935729, -11.01955361,  -9.70587478, -11.24365654,\n",
       "       -10.98922163,  -9.28184423,  -9.8687484 , -11.27398852,\n",
       "       -11.94909298, -10.3849056 , -11.66432609, -10.25572496,\n",
       "       -11.78002125, -10.9212703 , -16.89281191, -15.82680452,\n",
       "       -16.85519255, -13.30501754, -15.7420067 , -14.47886735,\n",
       "       -15.95205879, -11.84583549, -15.96947064, -13.0977611 ,\n",
       "       -11.85595996, -14.64902835, -13.95371639, -15.33425728,\n",
       "       -13.55997636, -16.08852681, -14.49571384, -14.16376848,\n",
       "       -14.72038213, -13.518996  , -15.38143575, -14.5883644 ,\n",
       "       -15.49040889, -15.25282047, -15.39264949, -15.86106286,\n",
       "       -16.36993269, -16.57662377, -14.99838556, -13.36677076,\n",
       "       -13.19660976, -13.10168747, -13.97392389, -15.40504571,\n",
       "       -14.20365958, -15.40556962, -16.3732937 , -14.85292378,\n",
       "       -14.11602466, -13.46789117, -13.92901716, -15.3207718 ,\n",
       "       -13.98740937, -11.91042581, -13.96663651, -14.35697408,\n",
       "       -14.27553727, -15.10059523, -11.93455968, -14.09917816,\n",
       "       -17.18604864, -15.11299144, -18.01503297, -16.48061221,\n",
       "       -17.04394788, -19.4096247 , -13.06633985, -18.6053396 ,\n",
       "       -16.92881808, -18.83952557, -16.54236543, -16.17899883,\n",
       "       -17.19726239, -14.70916839, -15.19442826, -16.58618289,\n",
       "       -16.75918099, -20.30206863, -19.51467147, -14.90293935,\n",
       "       -17.69600774, -14.7125294 , -19.4877005 , -15.65328251,\n",
       "       -17.48539028, -18.41885602, -15.4937699 , -15.60553869,\n",
       "       -16.54520253, -18.0661378 , -18.48008533, -20.309356  ,\n",
       "       -16.54520253, -15.92456392, -15.94424751, -19.08104035,\n",
       "       -16.88779627, -16.69459067, -15.36458926, -17.32980403,\n",
       "       -17.22759436, -17.04503715, -15.11299144, -17.7398252 ,\n",
       "       -17.48539028, -16.76646837, -15.58533118, -16.4744141 ,\n",
       "       -16.55192455, -15.50332901])"
      ]
     },
     "execution_count": 19,
     "metadata": {},
     "output_type": "execute_result"
    }
   ],
   "source": [
    "y_pred = X@W + b\n",
    "y_pred"
   ]
  },
  {
   "cell_type": "code",
   "execution_count": 20,
   "id": "6371f8e5",
   "metadata": {},
   "outputs": [
    {
     "data": {
      "text/plain": [
       "<matplotlib.legend.Legend at 0x23ffe6c0520>"
      ]
     },
     "execution_count": 20,
     "metadata": {},
     "output_type": "execute_result"
    },
    {
     "data": {
      "image/png": "[encoded data removed]",
      "text/plain": [
       "<Figure size 432x288 with 1 Axes>"
      ]
     },
     "metadata": {
      "needs_background": "light"
     },
     "output_type": "display_data"
    }
   ],
   "source": [
    "plt.plot(y_pred)\n",
    "plt.plot(y)\n",
    "plt.legend(['y_pred', 'y'])"
   ]
  },
  {
   "cell_type": "code",
   "execution_count": null,
   "id": "989ba8ee",
   "metadata": {},
   "outputs": [],
   "source": []
  },
  {
   "cell_type": "markdown",
   "id": "13a67e97",
   "metadata": {},
   "source": [
    "### 오차값 계산\n",
    "- 신경망은 예측값과 실제값의 차이(오차)를 줄이는 것이 목표이다.\n",
    "- 이런 오차를 수치화 해야만 컴퓨터가 오차를 줄일 수 있다.\n",
    "- MSE (Mean Squared Error) => 대표적인 오차값 계산방법"
   ]
  },
  {
   "cell_type": "code",
   "execution_count": 21,
   "id": "b04b751e",
   "metadata": {},
   "outputs": [
    {
     "data": {
      "text/plain": [
       "248.5273231915908"
      ]
     },
     "execution_count": 21,
     "metadata": {},
     "output_type": "execute_result"
    }
   ],
   "source": [
    "mse = (((y - y_pred)**2).sum())/150\n",
    "#mse = ((y - y_pred)**2).mean()\n",
    "mse"
   ]
  },
  {
   "cell_type": "code",
   "execution_count": null,
   "id": "05a97dbe",
   "metadata": {},
   "outputs": [],
   "source": []
  },
  {
   "cell_type": "markdown",
   "id": "1d0ca09f",
   "metadata": {},
   "source": [
    "### 가중치 변경"
   ]
  },
  {
   "cell_type": "code",
   "execution_count": 22,
   "id": "de461617",
   "metadata": {},
   "outputs": [
    {
     "data": {
      "text/plain": [
       "array([-1.45027132, -0.81436812, -0.94922296])"
      ]
     },
     "execution_count": 22,
     "metadata": {},
     "output_type": "execute_result"
    }
   ],
   "source": [
    "W1 = W.copy()\n",
    "W1[0] += 0.01\n",
    "W1"
   ]
  },
  {
   "cell_type": "code",
   "execution_count": 23,
   "id": "d9cb1798",
   "metadata": {},
   "outputs": [
    {
     "data": {
      "text/plain": [
       "246.6784133210366"
      ]
     },
     "execution_count": 23,
     "metadata": {},
     "output_type": "execute_result"
    }
   ],
   "source": [
    "y_pred = X@W1 + b\n",
    "((y - y_pred)**2).mean()"
   ]
  },
  {
   "cell_type": "code",
   "execution_count": null,
   "id": "021a5f0e",
   "metadata": {},
   "outputs": [],
   "source": []
  },
  {
   "cell_type": "code",
   "execution_count": 24,
   "id": "a5a2054c",
   "metadata": {},
   "outputs": [
    {
     "data": {
      "text/plain": [
       "array([-1.47027132, -0.81436812, -0.94922296])"
      ]
     },
     "execution_count": 24,
     "metadata": {},
     "output_type": "execute_result"
    }
   ],
   "source": [
    "W2 = W.copy()\n",
    "W2[0] -= 0.01\n",
    "W2"
   ]
  },
  {
   "cell_type": "code",
   "execution_count": 25,
   "id": "f912c7b8",
   "metadata": {},
   "outputs": [
    {
     "data": {
      "text/plain": [
       "250.38319819547831"
      ]
     },
     "execution_count": 25,
     "metadata": {},
     "output_type": "execute_result"
    }
   ],
   "source": [
    "y_pred = X@W2 + b\n",
    "((y - y_pred)**2).mean()"
   ]
  },
  {
   "cell_type": "markdown",
   "id": "6437a808",
   "metadata": {},
   "source": [
    "- W[1], W[2], b 에 대해서와 위와 같은 작업을 반복한다\n",
    "- W 와 b 값을 조금 변경했을 때, 오차값이 늘어나는지 줄어드는 지를 확인한다\n",
    "- 오차가 줄어드는 쪽으로 W 와 b 값을 바꾼다"
   ]
  },
  {
   "cell_type": "markdown",
   "id": "d20e7642",
   "metadata": {},
   "source": [
    "### 중간층 추가시 계산\n",
    "- 노드 2개인 중간층 추가"
   ]
  },
  {
   "cell_type": "code",
   "execution_count": 26,
   "id": "180b5f7d",
   "metadata": {},
   "outputs": [
    {
     "data": {
      "text/plain": [
       "array([[ 2.10118773, -0.54028143],\n",
       "       [ 0.75880164,  1.48460968],\n",
       "       [-1.30340367, -2.11358035]])"
      ]
     },
     "metadata": {},
     "output_type": "display_data"
    },
    {
     "data": {
      "text/plain": [
       "array([0.6935227 , 0.85173508])"
      ]
     },
     "metadata": {},
     "output_type": "display_data"
    },
    {
     "data": {
      "text/plain": [
       "array([[ 0.18936394],\n",
       "       [-2.36821809]])"
      ]
     },
     "metadata": {},
     "output_type": "display_data"
    },
    {
     "data": {
      "text/plain": [
       "-1.6334886814965048"
      ]
     },
     "metadata": {},
     "output_type": "display_data"
    }
   ],
   "source": [
    "W1 = np.random.randn(3,2)\n",
    "b1 = np.random.randn(2)\n",
    "W2 = np.random.randn(2,1)\n",
    "b2 = np.random.randn()\n",
    "display(W1, b1, W2, b2)"
   ]
  },
  {
   "cell_type": "code",
   "execution_count": 27,
   "id": "6a9acdb6",
   "metadata": {},
   "outputs": [
    {
     "data": {
      "text/plain": [
       "array([[ 12.24062071,   0.33342119],\n",
       "       [ 11.44098235,  -0.30082736],\n",
       "       [ 11.3028455 ,   0.3155089 ],\n",
       "       [ 10.75616583,  -0.20164   ],\n",
       "       [ 12.1063821 ,   0.5359103 ],\n",
       "       [ 12.78347658,   0.13110653],\n",
       "       [ 11.11414668,   0.45510094],\n",
       "       [ 11.82428141,   0.02763033],\n",
       "       [ 10.31450832,  -0.17914761],\n",
       "       [ 11.38652214,  -0.36372443],\n",
       "       [ 12.89239699,   0.25690067],\n",
       "       [ 11.2737035 ,  -0.07567142],\n",
       "       [ 11.23086358,  -0.24679922],\n",
       "       [ 10.57129081,   0.6574156 ],\n",
       "       [ 14.35153368,   1.1202451 ],\n",
       "       [ 14.05391446,   1.13404301],\n",
       "       [ 13.30483805,   0.97653867],\n",
       "       [ 12.24062071,   0.33342119],\n",
       "       [ 13.33795274,  -0.17943886],\n",
       "       [ 12.33792084,   0.56744606],\n",
       "       [ 12.40407577,  -0.61119831],\n",
       "       [ 12.26204067,   0.41898509],\n",
       "       [ 11.78726848,   1.59745501],\n",
       "       [ 11.69783928,  -0.59757485],\n",
       "       [ 10.88268239,  -0.70974552],\n",
       "       [ 11.39042039,  -0.77757157],\n",
       "       [ 11.69394104,  -0.1837277 ],\n",
       "       [ 12.32039912,   0.06803502],\n",
       "       [ 12.37485932,   0.13093208],\n",
       "       [ 10.9118244 ,  -0.31856521],\n",
       "       [ 11.046063  ,  -0.52105432],\n",
       "       [ 12.6647565 ,  -0.18848224],\n",
       "       [ 12.7756801 ,   0.95880082],\n",
       "       [ 13.61225695,   1.1565354 ],\n",
       "       [ 11.38652214,  -0.36372443],\n",
       "       [ 12.06354218,   0.3647825 ],\n",
       "       [ 13.21143617,   0.32866666],\n",
       "       [ 11.89626333,   0.58993845],\n",
       "       [ 10.52072885,   0.18067139],\n",
       "       [ 12.03440018,  -0.02639781],\n",
       "       [ 12.16084231,   0.59880737],\n",
       "       [ 10.19968648,  -0.91258353],\n",
       "       [ 10.67248918,   0.47759332],\n",
       "       [ 11.76982121,  -0.03526673],\n",
       "       [ 11.81655937,  -0.27798608],\n",
       "       [ 11.23086358,  -0.24679922],\n",
       "       [ 12.20758047,   0.35608803],\n",
       "       [ 10.96238636,   0.158179  ],\n",
       "       [ 12.68227822,   0.31092881],\n",
       "       [ 11.87874161,   0.0905274 ],\n",
       "       [ 11.7040048 ,  -8.11331157],\n",
       "       [ 10.70397289,  -7.36642664],\n",
       "       [ 11.15732513,  -8.63046046],\n",
       "       [  8.7816843 ,  -7.15953189],\n",
       "       [ 10.48023065,  -8.22565669],\n",
       "       [  8.92962083,  -7.58207351],\n",
       "       [ 10.30905355,  -7.5866536 ],\n",
       "       [  8.50923439,  -5.20739583],\n",
       "       [ 10.76622958,  -8.13122386],\n",
       "       [  8.585189  ,  -6.19224556],\n",
       "       [  8.15515178,  -6.27798391],\n",
       "       [  9.8926398 ,  -6.75913376],\n",
       "       [  9.756398  ,  -7.57813357],\n",
       "       [  9.58529535,  -8.07244118],\n",
       "       [  9.96844552,  -5.47736209],\n",
       "       [ 11.38878942,  -7.465614  ],\n",
       "       [  8.87126238,  -7.23112343],\n",
       "       [  9.58522091,  -6.93913048],\n",
       "       [  9.52493371,  -8.74298003],\n",
       "       [  9.27390377,  -6.70528007],\n",
       "       [  9.26235793,  -7.73036003],\n",
       "       [ 10.42179776,  -6.74139591],\n",
       "       [  9.44133151,  -9.19705741],\n",
       "       [  9.50941519,  -8.22090215],\n",
       "       [ 10.73701314,  -7.38909347],\n",
       "       [ 11.10279048,  -7.56004683],\n",
       "       [ 10.84990623,  -8.81045719],\n",
       "       [ 10.53086705,  -8.88222318],\n",
       "       [  9.63585731,  -7.59569697],\n",
       "       [ 10.08126417,  -5.7654151 ],\n",
       "       [  9.1182452 ,  -6.58835486],\n",
       "       [  9.24858556,  -6.37699682],\n",
       "       [  9.84590164,  -6.51641442],\n",
       "       [  8.70205478,  -9.16076712],\n",
       "       [  8.45102484,  -7.12306715],\n",
       "       [ 10.01525813,  -6.85339213],\n",
       "       [ 10.99776832,  -8.09968811],\n",
       "       [  9.94127302,  -8.43718917],\n",
       "       [  9.39262385,  -6.3856913 ],\n",
       "       [  8.93344463,  -6.86260996],\n",
       "       [  8.48796332,  -7.55958113],\n",
       "       [  9.79151588,  -7.71262218],\n",
       "       [  9.63968111,  -6.87623342],\n",
       "       [  8.643473  ,  -5.40988494],\n",
       "       [  9.03464299,  -7.04243223],\n",
       "       [  9.47240226,  -6.65107747],\n",
       "       [  9.39652209,  -6.79953844],\n",
       "       [ 10.31677559,  -7.28103719],\n",
       "       [  9.3963732 ,  -4.53291704],\n",
       "       [  9.4509823 ,  -6.73664137],\n",
       "       [  8.61462878, -10.33430805],\n",
       "       [  8.28181724,  -9.05271083],\n",
       "       [ 10.19827884, -11.00055806],\n",
       "       [  8.83246959, -10.08271978],\n",
       "       [  9.06790657, -10.46503117],\n",
       "       [ 10.33649014, -12.75020502],\n",
       "       [  7.02103015,  -7.59523127],\n",
       "       [ 10.02127475, -12.10250745],\n",
       "       [  9.1087433 , -11.31539229],\n",
       "       [ 10.60299786, -10.58653647],\n",
       "       [ 10.13204946,  -8.68860299],\n",
       "       [  9.28184914,  -9.79959576],\n",
       "       [ 10.08928399,  -9.99304149],\n",
       "       [  8.0502785 ,  -9.08424659],\n",
       "       [  8.3576974 ,  -8.90424986],\n",
       "       [  9.66124996,  -9.05729092],\n",
       "       [  9.45892767,  -9.83095707],\n",
       "       [ 11.02330985, -11.82790345],\n",
       "       [  9.85206715, -14.03215114],\n",
       "       [  8.45299433,  -9.69171392],\n",
       "       [ 10.19048236, -10.17286377],\n",
       "       [  8.19814059,  -8.37347751],\n",
       "       [ 10.26450822, -13.31251313],\n",
       "       [  9.59309184,  -8.90013548],\n",
       "       [  9.84612497,  -9.91634652],\n",
       "       [ 10.42981757, -10.9690223 ],\n",
       "       [  9.58919359,  -8.48628833],\n",
       "       [  9.40049478,  -8.34669629],\n",
       "       [  8.9667082 , -10.28520889],\n",
       "       [ 10.53873798, -10.84322817],\n",
       "       [ 10.4161941 , -11.88228049],\n",
       "       [ 11.8345685 , -11.30188563],\n",
       "       [  8.9667082 , -10.28520889],\n",
       "       [  9.40829126,  -9.17439058],\n",
       "       [  8.18459156, -10.4200464 ],\n",
       "       [ 11.19831075, -11.74744299],\n",
       "       [  9.21187041,  -9.34041494],\n",
       "       [  9.32468906,  -9.62846795],\n",
       "       [  9.32071637,  -8.08131011],\n",
       "       [ 10.50562329,  -9.68725063],\n",
       "       [  9.82470501, -10.00191042],\n",
       "       [ 10.89664439,  -9.05317653],\n",
       "       [  8.28181724,  -9.05271083],\n",
       "       [  9.71968285, -10.5415517 ],\n",
       "       [  9.84612497,  -9.91634652],\n",
       "       [ 10.27018632,  -9.30493925],\n",
       "       [  9.31099114,  -9.40841545],\n",
       "       [  9.84994877,  -9.19688296],\n",
       "       [  9.26243237,  -8.86367073],\n",
       "       [  8.7195765 ,  -8.66135607]])"
      ]
     },
     "execution_count": 27,
     "metadata": {},
     "output_type": "execute_result"
    }
   ],
   "source": [
    "y1 = X@W1 + b1\n",
    "y1"
   ]
  },
  {
   "cell_type": "code",
   "execution_count": 28,
   "id": "0acb4e33",
   "metadata": {},
   "outputs": [
    {
     "data": {
      "text/plain": [
       "(150, 2)"
      ]
     },
     "execution_count": 28,
     "metadata": {},
     "output_type": "execute_result"
    }
   ],
   "source": [
    "y1.shape"
   ]
  },
  {
   "cell_type": "code",
   "execution_count": 31,
   "id": "ad0fe273",
   "metadata": {},
   "outputs": [
    {
     "data": {
      "text/plain": [
       "array([[ 1.92473129],\n",
       "       [ 3.27534752],\n",
       "       [ 1.78957071],\n",
       "       [ 2.91077066],\n",
       "       [ 1.41977296],\n",
       "       [ 2.50665386],\n",
       "       [ 1.42325355],\n",
       "       [ 2.57007109],\n",
       "       [ 2.77386979],\n",
       "       [ 3.41398869],\n",
       "       [ 2.22937151],\n",
       "       [ 2.71045256],\n",
       "       [ 3.10760818],\n",
       "       [ 0.84133099],\n",
       "       [ 0.46109146],\n",
       "       [ 0.37205665],\n",
       "       [ 0.60321323],\n",
       "       [ 1.92473129],\n",
       "       [ 3.34709087],\n",
       "       [ 1.38893449],\n",
       "       [ 4.19274877],\n",
       "       [ 1.72615348],\n",
       "       [-1.15462504],\n",
       "       [ 4.02674973],\n",
       "       [ 4.13803303],\n",
       "       [ 4.39480718],\n",
       "       [ 3.04593124],\n",
       "       [ 2.56833079],\n",
       "       [ 2.42968962],\n",
       "       [ 3.21715118],\n",
       "       [ 3.72210951],\n",
       "       [ 3.24102846],\n",
       "       [ 0.54501689],\n",
       "       [ 0.23515578],\n",
       "       [ 3.41398869],\n",
       "       [ 1.81692858],\n",
       "       [ 2.11982851],\n",
       "       [ 1.25203362],\n",
       "       [ 1.96079065],\n",
       "       [ 2.73781043],\n",
       "       [ 1.28113179],\n",
       "       [ 4.48906288],\n",
       "       [ 1.28635268],\n",
       "       [ 2.70871226],\n",
       "       [ 3.29237512],\n",
       "       [ 3.10760818],\n",
       "       [ 1.86479465],\n",
       "       [ 2.09769152],\n",
       "       [ 2.06163217],\n",
       "       [ 2.43142991],\n",
       "       [21.82682095],\n",
       "       [19.86866457],\n",
       "       [22.9480209 ],\n",
       "       [19.01468055],\n",
       "       [21.86114001],\n",
       "       [20.0433651 ],\n",
       "       [20.31542656],\n",
       "       [14.3400044 ],\n",
       "       [21.69166037],\n",
       "       [16.68672642],\n",
       "       [16.80834   ],\n",
       "       [18.27682535],\n",
       "       [20.19059625],\n",
       "       [21.3288238 ],\n",
       "       [15.25566536],\n",
       "       [20.23324143],\n",
       "       [19.20118779],\n",
       "       [18.6448828 ],\n",
       "       [22.90537572],\n",
       "       [18.03212177],\n",
       "       [20.45754832],\n",
       "       [18.33502169],\n",
       "       [23.96489874],\n",
       "       [21.66604279],\n",
       "       [19.92860121],\n",
       "       [20.40272107],\n",
       "       [23.31607835],\n",
       "       [23.42562135],\n",
       "       [20.20936415],\n",
       "       [15.9592015 ],\n",
       "       [17.72574125],\n",
       "       [17.24988109],\n",
       "       [17.69316249],\n",
       "       [23.73896305],\n",
       "       [18.8657091 ],\n",
       "       [18.52326923],\n",
       "       [21.6608219 ],\n",
       "       [22.26003592],\n",
       "       [17.29774716],\n",
       "       [18.34024258],\n",
       "       [19.90646422],\n",
       "       [20.51574466],\n",
       "       [18.50624163],\n",
       "       [14.84496273],\n",
       "       [18.78526427],\n",
       "       [17.94134666],\n",
       "       [18.27856564],\n",
       "       [19.59312252],\n",
       "       [12.91068364],\n",
       "       [18.13992447],\n",
       "       [26.50160859],\n",
       "       [23.40348437],\n",
       "       [28.37932014],\n",
       "       [25.9470439 ],\n",
       "       [26.89702392],\n",
       "       [32.54903795],\n",
       "       [19.7131073 ],\n",
       "       [30.95545844],\n",
       "       [28.91859753],\n",
       "       [27.47546589],\n",
       "       [22.89156485],\n",
       "       [25.36164074],\n",
       "       [25.97266148],\n",
       "       [23.43432283],\n",
       "       [23.06626538],\n",
       "       [23.67554582],\n",
       "       [25.46944345],\n",
       "       [30.49488558],\n",
       "       [35.4932337 ],\n",
       "       [24.94919782],\n",
       "       [26.41768317],\n",
       "       [21.77906638],\n",
       "       [33.86707542],\n",
       "       [23.29046077],\n",
       "       [25.7449855 ],\n",
       "       [28.34848167],\n",
       "       [22.30964229],\n",
       "       [21.94332513],\n",
       "       [26.45200223],\n",
       "       [28.07119933],\n",
       "       [30.50869645],\n",
       "       [29.4027838 ],\n",
       "       [26.45200223],\n",
       "       [23.9049621 ],\n",
       "       [26.62322217],\n",
       "       [30.33747651],\n",
       "       [24.26094898],\n",
       "       [24.96448512],\n",
       "       [21.29972563],\n",
       "       [25.32732168],\n",
       "       [25.94356331],\n",
       "       [23.89974121],\n",
       "       [23.40348437],\n",
       "       [27.20166414],\n",
       "       [25.7449855 ],\n",
       "       [24.37734167],\n",
       "       [24.4407589 ],\n",
       "       [24.04186298],\n",
       "       [23.14148933],\n",
       "       [22.55956676]])"
      ]
     },
     "execution_count": 31,
     "metadata": {},
     "output_type": "execute_result"
    }
   ],
   "source": [
    "y_pred = y1@W2 + b\n",
    "y_pred"
   ]
  },
  {
   "cell_type": "code",
   "execution_count": 32,
   "id": "836bf32f",
   "metadata": {},
   "outputs": [
    {
     "data": {
      "text/plain": [
       "(150, 1)"
      ]
     },
     "execution_count": 32,
     "metadata": {},
     "output_type": "execute_result"
    }
   ],
   "source": [
    "y_pred.shape"
   ]
  },
  {
   "cell_type": "code",
   "execution_count": 33,
   "id": "adfd538a",
   "metadata": {},
   "outputs": [
    {
     "data": {
      "text/plain": [
       "306.8179021913887"
      ]
     },
     "execution_count": 33,
     "metadata": {},
     "output_type": "execute_result"
    }
   ],
   "source": [
    "mse = ((y - y_pred.ravel())**2).mean() # ravel() 은 y_pred 를 1차원 데이터로 풀어준다\n",
    "mse"
   ]
  },
  {
   "cell_type": "code",
   "execution_count": 34,
   "id": "d46e6d14",
   "metadata": {},
   "outputs": [
    {
     "data": {
      "text/plain": [
       "<matplotlib.legend.Legend at 0x23ffe1d01c0>"
      ]
     },
     "execution_count": 34,
     "metadata": {},
     "output_type": "execute_result"
    },
    {
     "data": {
      "image/png": "[encoded data removed]",
      "text/plain": [
       "<Figure size 432x288 with 1 Axes>"
      ]
     },
     "metadata": {
      "needs_background": "light"
     },
     "output_type": "display_data"
    }
   ],
   "source": [
    "plt.plot(y_pred)\n",
    "plt.plot(y)\n",
    "plt.legend(['y_pred', 'y'])"
   ]
  },
  {
   "cell_type": "code",
   "execution_count": null,
   "id": "84dbaa3e",
   "metadata": {},
   "outputs": [],
   "source": []
  },
  {
   "cell_type": "markdown",
   "id": "ea25aa3a",
   "metadata": {},
   "source": [
    "### 활성화함수 추가\n",
    "- 중간층을 추가한 경우 반드시 활성화함수를 적용해야 한다\n",
    "- 대표적인 활성화함수는 sigmoid 와 relu 이다"
   ]
  },
  {
   "cell_type": "code",
   "execution_count": 35,
   "id": "3d96ffb5",
   "metadata": {},
   "outputs": [],
   "source": [
    "def sigmoid(a):\n",
    "    return 1/(1+np.exp(-a))"
   ]
  },
  {
   "cell_type": "code",
   "execution_count": 36,
   "id": "5ee25921",
   "metadata": {},
   "outputs": [
    {
     "data": {
      "text/plain": [
       "array([[0.73105858, 0.88079708],\n",
       "       [0.95257413, 0.98201379]])"
      ]
     },
     "execution_count": 36,
     "metadata": {},
     "output_type": "execute_result"
    }
   ],
   "source": [
    "sigmoid(np.array([[1,2],[3,4]]))"
   ]
  },
  {
   "cell_type": "code",
   "execution_count": 38,
   "id": "e50c8d41",
   "metadata": {},
   "outputs": [
    {
     "data": {
      "text/plain": [
       "[<matplotlib.lines.Line2D at 0x23ffe8bc490>]"
      ]
     },
     "execution_count": 38,
     "metadata": {},
     "output_type": "execute_result"
    },
    {
     "data": {
      "image/png": "[encoded data removed]",
      "text/plain": [
       "<Figure size 432x288 with 1 Axes>"
      ]
     },
     "metadata": {
      "needs_background": "light"
     },
     "output_type": "display_data"
    }
   ],
   "source": [
    "x = np.linspace(-5,5,101)\n",
    "plt.plot(x, sigmoid(x))"
   ]
  },
  {
   "cell_type": "code",
   "execution_count": 42,
   "id": "29e1b666",
   "metadata": {},
   "outputs": [],
   "source": [
    "y_pred = sigmoid(X@W1 + b1)@W2 + b2"
   ]
  },
  {
   "cell_type": "code",
   "execution_count": 43,
   "id": "47f199b3",
   "metadata": {},
   "outputs": [
    {
     "data": {
      "text/plain": [
       "(150, 1)"
      ]
     },
     "execution_count": 43,
     "metadata": {},
     "output_type": "execute_result"
    }
   ],
   "source": [
    "y_pred.shape"
   ]
  },
  {
   "cell_type": "code",
   "execution_count": null,
   "id": "21ae3114",
   "metadata": {},
   "outputs": [],
   "source": []
  },
  {
   "cell_type": "code",
   "execution_count": 44,
   "id": "0d0ade03",
   "metadata": {},
   "outputs": [],
   "source": [
    "def relu(a):\n",
    "    return np.maximum(a, 0)"
   ]
  },
  {
   "cell_type": "code",
   "execution_count": 48,
   "id": "d498a150",
   "metadata": {},
   "outputs": [
    {
     "data": {
      "text/plain": [
       "[<matplotlib.lines.Line2D at 0x23ffe84e430>]"
      ]
     },
     "execution_count": 48,
     "metadata": {},
     "output_type": "execute_result"
    },
    {
     "data": {
      "image/png": "[encoded data removed]",
      "text/plain": [
       "<Figure size 432x288 with 1 Axes>"
      ]
     },
     "metadata": {
      "needs_background": "light"
     },
     "output_type": "display_data"
    }
   ],
   "source": [
    "x = np.linspace(-5,5,101)\n",
    "plt.plot(x, relu(x))"
   ]
  },
  {
   "cell_type": "code",
   "execution_count": 45,
   "id": "738ff289",
   "metadata": {},
   "outputs": [
    {
     "data": {
      "text/plain": [
       "array([[0.08092251, 1.89823246, 0.30732703],\n",
       "       [0.        , 0.        , 1.21787011],\n",
       "       [2.40461144, 0.        , 0.        ]])"
      ]
     },
     "execution_count": 45,
     "metadata": {},
     "output_type": "execute_result"
    }
   ],
   "source": [
    "relu(np.random.randn(3,3))"
   ]
  },
  {
   "cell_type": "code",
   "execution_count": 46,
   "id": "d4fb7ec7",
   "metadata": {},
   "outputs": [],
   "source": [
    "y_pred = relu(X@W1 + b1)@W2 + b2"
   ]
  },
  {
   "cell_type": "code",
   "execution_count": 47,
   "id": "a0e704dc",
   "metadata": {},
   "outputs": [
    {
     "data": {
      "text/plain": [
       "(150, 1)"
      ]
     },
     "execution_count": 47,
     "metadata": {},
     "output_type": "execute_result"
    }
   ],
   "source": [
    "y_pred.shape"
   ]
  },
  {
   "cell_type": "code",
   "execution_count": null,
   "id": "fefa5bc5",
   "metadata": {},
   "outputs": [],
   "source": []
  }
 ],
 "metadata": {
  "kernelspec": {
   "display_name": "Python 3",
   "language": "python",
   "name": "python3"
  },
  "language_info": {
   "codemirror_mode": {
    "name": "ipython",
    "version": 3
   },
   "file_extension": ".py",
   "mimetype": "text/x-python",
   "name": "python",
   "nbconvert_exporter": "python",
   "pygments_lexer": "ipython3",
   "version": "3.8.8"
  }
 },
 "nbformat": 4,
 "nbformat_minor": 5
}
